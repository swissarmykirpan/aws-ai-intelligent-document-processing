{
 "cells": [
  {
   "cell_type": "markdown",
   "metadata": {},
   "source": [
    "# Mortgage Document Classification \n",
    "\n",
    "Mortgage companies often need to process large volumes of diverse document types to extract business-critical data. Today, lenders are faced with the challenge of managing a manual, slow, and expensive process to extract data and insights from documents.\n",
    "\n",
    "To help address the issue, Amazon Textract Analyze Lending improves business process efficiency through automation and accuracy, reducing loan processing costs and providing the ability to scale quickly based on changing demand.\n",
    "\n",
    "\n",
    "## Analyze Lending \n",
    "Analyze Lending is a managed intelligent document processing API that fully automates the classification and extraction of information from loan packages. Customers simply upload their mortgage loan documents to the Analyze Lending API and its pre-trained machine learning models will automatically classify and split by document type, and extract critical fields of information from a mortgage loan packet.\n",
    "\n",
    "\n",
    "In this workshop, we will use Analyze Lending for Document Classification in the intelligent document processing workflow.\n",
    "\n",
    "At the beginning of our document processing stage, it may not be obvious as do which documents are present in the mortgage packet. Using Amazon Textract Analyze Lending we will first identify these documents into their respective classes. Once we know which documents are present in the packet, we can run any kind of validation such as look for missing/required documents, extract specific document in a specific way such as ID documents and so on. The figure below explains this process.\n",
    "  \n",
    "\n",
    "<p align=\"center\">\n",
    "  <img src=\"./images/classification.png\" alt=\"cfn\" width=\"800px\"/>\n",
    "</p>"
   ]
  },
  {
   "cell_type": "markdown",
   "metadata": {},
   "source": [
    "## Setup Notebook"
   ]
  },
  {
   "cell_type": "code",
   "execution_count": 2,
   "metadata": {
    "tags": []
   },
   "outputs": [
    {
     "name": "stdout",
     "output_type": "stream",
     "text": [
      "\u001b[31mERROR: pip's dependency resolver does not currently take into account all the packages that are installed. This behaviour is the source of the following dependency conflicts.\n",
      "awscli 1.32.84 requires botocore==1.34.84, but you have botocore 1.35.28 which is incompatible.\u001b[0m\u001b[31m\n",
      "\u001b[0m\u001b[33mWARNING: Running pip as the 'root' user can result in broken permissions and conflicting behaviour with the system package manager. It is recommended to use a virtual environment instead: https://pip.pypa.io/warnings/venv\u001b[0m\u001b[33m\n",
      "\u001b[0m"
     ]
    }
   ],
   "source": [
    "!python -m pip install -q amazon-textract-response-parser amazon-textract-caller amazon-textract-prettyprinter boto3 --upgrade"
   ]
  },
  {
   "cell_type": "code",
   "execution_count": 3,
   "metadata": {
    "tags": []
   },
   "outputs": [
    {
     "name": "stdout",
     "output_type": "stream",
     "text": [
      "sagemaker.config INFO - Not applying SDK defaults from location: /etc/xdg/sagemaker/config.yaml\n",
      "sagemaker.config INFO - Not applying SDK defaults from location: /root/.config/sagemaker/config.yaml\n"
     ]
    }
   ],
   "source": [
    "import boto3\n",
    "from textractcaller import call_textract_lending\n",
    "from textractprettyprinter.t_pretty_print import convert_lending_from_trp2\n",
    "from IPython.display import Image, display, HTML, JSON, IFrame\n",
    "import trp.trp2_lending as tl\n",
    "import json\n",
    "import sagemaker\n",
    "import botocore\n",
    "import os\n",
    "import pandas as pd\n",
    "from sagemaker import get_execution_role"
   ]
  },
  {
   "cell_type": "markdown",
   "metadata": {},
   "source": [
    "## Data preparation\n",
    "\n",
    "The sample lending package `lending_package.pdf` . For this workshop, we will be a PDF formatted package, that includes the following documents:\n",
    "\n",
    "1. Pay Slip\n",
    "2. Check\n",
    "3. ID Document\n",
    "4. Tax form 1099-DIV\n",
    "5. Bank Statement\n",
    "6. Tax form W2\n",
    "7. Homeowners Insurance Application Form\n",
    "\n"
   ]
  },
  {
   "cell_type": "code",
   "execution_count": 4,
   "metadata": {
    "tags": []
   },
   "outputs": [],
   "source": [
    "document = 'lending_package.pdf'"
   ]
  },
  {
   "cell_type": "code",
   "execution_count": 5,
   "metadata": {
    "tags": []
   },
   "outputs": [
    {
     "name": "stdout",
     "output_type": "stream",
     "text": [
      "SageMaker role is: arn:aws:iam::463470940958:role/service-role/AmazonSageMaker-ExecutionRole-20240909T192441\n",
      "Default SageMaker Bucket: s3://sagemaker-eu-west-2-463470940958\n"
     ]
    }
   ],
   "source": [
    "# variables\n",
    "data_bucket = sagemaker.Session().default_bucket()\n",
    "region = boto3.session.Session().region_name\n",
    "account_id = boto3.client('sts').get_caller_identity().get('Account')\n",
    "\n",
    "os.environ[\"BUCKET\"] = data_bucket\n",
    "os.environ[\"REGION\"] = region\n",
    "role = sagemaker.get_execution_role()\n",
    "\n",
    "print(f\"SageMaker role is: {role}\\nDefault SageMaker Bucket: s3://{data_bucket}\")\n",
    "\n",
    "s3=boto3.client('s3')\n",
    "textract = boto3.client('textract', region_name=region)"
   ]
  },
  {
   "cell_type": "markdown",
   "metadata": {},
   "source": [
    "## Upload sample data to S3 bucket\n",
    "\n",
    "The sample package has multiple documents in one file (lending_package.pdf). We will upload this to an S3 bucket for processing. "
   ]
  },
  {
   "cell_type": "code",
   "execution_count": 6,
   "metadata": {
    "tags": []
   },
   "outputs": [
    {
     "name": "stdout",
     "output_type": "stream",
     "text": [
      "SageMaker Bucket: s3://sagemaker-eu-west-2-463470940958\n",
      "Lending Package uploaded to S3: s3://sagemaker-eu-west-2-463470940958/idp/textract/lending_package.pdf\n"
     ]
    }
   ],
   "source": [
    "# Upload images to S3 bucket:\n",
    "bucket = sagemaker.Session().default_bucket()\n",
    "print(f\"SageMaker Bucket: s3://{data_bucket}\")\n",
    "\n",
    "!aws s3 cp docs/lending_package.pdf s3://{data_bucket}/idp/textract/ --only-show-errors\n",
    "\n",
    "input_file = 's3://' + bucket + '/idp/textract' + '/' + document\n",
    "print(f\"Lending Package uploaded to S3: {input_file}\")"
   ]
  },
  {
   "cell_type": "markdown",
   "metadata": {},
   "source": [
    "## Process the document with Textract Analyze Lending\n",
    "We will process the lending package using the Textract Caller helper library, and then print out details for how the pages were classified. \n",
    "\n",
    "For more information, see [Textract Caller helper library.](https://pypi.org/project/amazon-textract-caller/)\n",
    "\n",
    "The format of the response JSON returned is described in the Textract Analyze Lenging documentation here: [Link](https://docs.aws.amazon.com/textract/latest/dg/lending-document-classification-extraction.html)\n"
   ]
  },
  {
   "cell_type": "code",
   "execution_count": 7,
   "metadata": {
    "tags": []
   },
   "outputs": [],
   "source": [
    "textract_json = call_textract_lending(input_document=input_file, boto3_textract_client=textract)"
   ]
  },
  {
   "cell_type": "code",
   "execution_count": 8,
   "metadata": {
    "tags": []
   },
   "outputs": [
    {
     "name": "stdout",
     "output_type": "stream",
     "text": [
      "Lending Package processed\n",
      "Pages: 7\n"
     ]
    }
   ],
   "source": [
    "print('Lending Package processed')\n",
    "print('Pages: {}'.format(textract_json['DocumentMetadata']['Pages']))\n"
   ]
  },
  {
   "cell_type": "markdown",
   "metadata": {},
   "source": [
    "We will next print the classifications detected for each page of the package\n",
    "Type – The normalized value associated with a detection. \n",
    "For a list of all possible document types, please see [link.](https://docs.aws.amazon.com/textract/latest/dg/samples/textract_AnalyzeLending_keys.zip)\n",
    "\n",
    "Download and unzip this file. In it you will find a CSV file, with these columns:\n",
    " - PageType: This is the document type detected. \n",
    " - PageNumber: This is the page number within that document type. \n",
    " - Type: These are the fields to be detected in that document\n",
    "\n",
    "\n",
    "As of December 2022, the list of supported PageTypes are:\n",
    "\n",
    "- 1003\n",
    "- 1005\n",
    "- 1008\n",
    "- 1040\n",
    "- 1065\n",
    "- 1120\n",
    "- 1040_SCHEDULE_C\n",
    "- 1040_SCHEDULE_D\n",
    "- 1040_SCHEDULE_E\n",
    "- 1040_SE\n",
    "- 1099_DIV\n",
    "- 1099_G\n",
    "- 1099_INT\n",
    "- 1099_MISC\n",
    "- 1099_NEC\n",
    "- 1099_R\n",
    "- 1099_SSA\n",
    "- 1120_S\n",
    "- BANK_STATEMENT\n",
    "- CHECKS\n",
    "- CREDIT_CARD_STATEMENT\n",
    "- DEMOGRAPHIC_ADDENDUM\n",
    "- HOA_STATEMENT\n",
    "- HUD_92900_B\n",
    "- INVESTMENT_STATEMENT\n",
    "- MORTGAGE_STATEMENT\n",
    "- PAYOFF_STATEMENT\n",
    "- PAYSLIPS\n",
    "- SSA_89\n",
    "- UTILITY_BILLS\n",
    "- VBA_26_0551\n",
    "- W_2\n",
    "- W_9"
   ]
  },
  {
   "cell_type": "code",
   "execution_count": 9,
   "metadata": {
    "tags": []
   },
   "outputs": [
    {
     "name": "stdout",
     "output_type": "stream",
     "text": [
      "Page Number: 1 Page Classification: [{'Value': 'PAYSLIPS', 'Confidence': 99.99993896484375}]\n",
      "Page Number: 2 Page Classification: [{'Value': 'CHECKS', 'Confidence': 99.98819732666016}]\n",
      "Page Number: 3 Page Classification: [{'Value': 'IDENTITY_DOCUMENT', 'Confidence': 99.9999771118164}]\n",
      "Page Number: 4 Page Classification: [{'Value': '1099_DIV', 'Confidence': 99.99998474121094}]\n",
      "Page Number: 5 Page Classification: [{'Value': 'BANK_STATEMENT', 'Confidence': 97.54032135009766}]\n",
      "Page Number: 6 Page Classification: [{'Value': 'W_2', 'Confidence': 99.99996185302734}]\n",
      "Page Number: 7 Page Classification: [{'Value': 'UNCLASSIFIED', 'Confidence': 99.99408721923828}]\n"
     ]
    }
   ],
   "source": [
    "results = textract_json['Results']\n",
    "    \n",
    "for page in results:\n",
    "    print(\"Page Number: {}\".format(page[\"Page\"]), \"Page Classification: {}\".format(page[\"PageClassification\"][\"PageType\"]))"
   ]
  },
  {
   "cell_type": "markdown",
   "metadata": {},
   "source": [
    "----\n",
    "\n",
    "### How does Textract Analyze Lending classify the document pages?\n",
    "\n",
    "Let's take a look at the full JSON response from AnalyzeLending. The `results` variable consists of a list with 7 elements for each of the 7 pages in the `lending_package.pdf` document."
   ]
  },
  {
   "cell_type": "code",
   "execution_count": 10,
   "metadata": {
    "tags": []
   },
   "outputs": [
    {
     "data": {
      "application/json": [
       {
        "Extractions": [
         {
          "LendingDocument": {
           "LendingFields": [
            {
             "Type": "PAY_PERIOD_START_DATE",
             "ValueDetections": []
            },
            {
             "Type": "PAY_PERIOD_END_DATE",
             "ValueDetections": [
              {
               "Confidence": 99,
               "Geometry": {
                "BoundingBox": {
                 "Height": 0.009813770651817322,
                 "Left": 0.7493308186531067,
                 "Top": 0.24268266558647156,
                 "Width": 0.07342242449522018
                },
                "Polygon": [
                 {
                  "X": 0.7493358254432678,
                  "Y": 0.24268266558647156
                 },
                 {
                  "X": 0.8227532505989075,
                  "Y": 0.24279442429542542
                 },
                 {
                  "X": 0.8227487802505493,
                  "Y": 0.2524964213371277
                 },
                 {
                  "X": 0.7493308186531067,
                  "Y": 0.2523847818374634
                 }
                ]
               },
               "Text": "7/18/2008"
              }
             ]
            },
            {
             "Type": "PAY_DATE",
             "ValueDetections": [
              {
               "Confidence": 98,
               "Geometry": {
                "BoundingBox": {
                 "Height": 0.009240644983947277,
                 "Left": 0.7501305341720581,
                 "Top": 0.2569517493247986,
                 "Width": 0.07180937379598618
                },
                "Polygon": [
                 {
                  "X": 0.7501352429389954,
                  "Y": 0.2569517493247986
                 },
                 {
                  "X": 0.8219399452209473,
                  "Y": 0.2570609152317047
                 },
                 {
                  "X": 0.8219357132911682,
                  "Y": 0.26619240641593933
                 },
                 {
                  "X": 0.7501305341720581,
                  "Y": 0.26608335971832275
                 }
                ]
               },
               "Text": "7/25/2008"
              }
             ]
            },
            {
             "Type": "BORROWER_NAME",
             "ValueDetections": [
              {
               "Confidence": 99,
               "Geometry": {
                "BoundingBox": {
                 "Height": 0.009866639971733093,
                 "Left": 0.5790428519248962,
                 "Top": 0.31605130434036255,
                 "Width": 0.1081274226307869
                },
                "Polygon": [
                 {
                  "X": 0.5790491700172424,
                  "Y": 0.31605130434036255
                 },
                 {
                  "X": 0.6871702671051025,
                  "Y": 0.31621456146240234
                 },
                 {
                  "X": 0.6871647834777832,
                  "Y": 0.32591792941093445
                 },
                 {
                  "X": 0.5790428519248962,
                  "Y": 0.325754851102829
                 }
                ]
               },
               "Text": "JOHN STILES"
              }
             ]
            },
            {
             "Type": "BORROWER_ADDRESS",
             "ValueDetections": [
              {
               "Confidence": 92,
               "Geometry": {
                "BoundingBox": {
                 "Height": 0.025985153391957283,
                 "Left": 0.5790253281593323,
                 "Top": 0.32689642906188965,
                 "Width": 0.1985064595937729
                },
                "Polygon": [
                 {
                  "X": 0.5790421366691589,
                  "Y": 0.32689642906188965
                 },
                 {
                  "X": 0.7775318026542664,
                  "Y": 0.32719582319259644
                 },
                 {
                  "X": 0.7775191068649292,
                  "Y": 0.3528815805912018
                 },
                 {
                  "X": 0.5790253281593323,
                  "Y": 0.35258305072784424
                 }
                ]
               },
               "Text": "101 MAIN STREET ANYTOWN, USA 12345"
              }
             ]
            },
            {
             "Type": "COMPANY_NAME",
             "ValueDetections": [
              {
               "Confidence": 98,
               "Geometry": {
                "BoundingBox": {
                 "Height": 0.010524165816605091,
                 "Left": 0.15627160668373108,
                 "Top": 0.24292130768299103,
                 "Width": 0.16462458670139313
                },
                "Polygon": [
                 {
                  "X": 0.15628181397914886,
                  "Y": 0.24292130768299103
                 },
                 {
                  "X": 0.320896178483963,
                  "Y": 0.24317190051078796
                 },
                 {
                  "X": 0.32088735699653625,
                  "Y": 0.25344547629356384
                 },
                 {
                  "X": 0.15627160668373108,
                  "Y": 0.2531951665878296
                 }
                ]
               },
               "Text": "ANY COMPANY CORP."
              }
             ]
            },
            {
             "Type": "COMPANY_ADDRESS",
             "ValueDetections": [
              {
               "Confidence": 90,
               "Geometry": {
                "BoundingBox": {
                 "Height": 0.02479105442762375,
                 "Left": 0.15624211728572845,
                 "Top": 0.25833216309547424,
                 "Width": 0.16302695870399475
                },
                "Polygon": [
                 {
                  "X": 0.1562664955854416,
                  "Y": 0.25833216309547424
                 },
                 {
                  "X": 0.3192690908908844,
                  "Y": 0.25857987999916077
                 },
                 {
                  "X": 0.31924790143966675,
                  "Y": 0.2831232249736786
                 },
                 {
                  "X": 0.15624211728572845,
                  "Y": 0.282876193523407
                 }
                ]
               },
               "Text": "475 ANY AVENUE ANYTOWN, USA 10101"
              }
             ]
            },
            {
             "Type": "FEDERAL_FILING_STATUS",
             "ValueDetections": [
              {
               "Confidence": 100,
               "Geometry": {
                "BoundingBox": {
                 "Height": 0.008062156848609447,
                 "Left": 0.2966133654117584,
                 "Top": 0.32076218724250793,
                 "Width": 0.0468108132481575
                },
                "Polygon": [
                 {
                  "X": 0.2966203987598419,
                  "Y": 0.32076218724250793
                 },
                 {
                  "X": 0.3434241712093353,
                  "Y": 0.32083284854888916
                 },
                 {
                  "X": 0.3434174358844757,
                  "Y": 0.32882434129714966
                 },
                 {
                  "X": 0.2966133654117584,
                  "Y": 0.3287537693977356
                 }
                ]
               },
               "Text": "Married"
              }
             ]
            },
            {
             "Type": "STATE_FILING_STATUS",
             "ValueDetections": [
              {
               "Confidence": 50,
               "Geometry": {
                "BoundingBox": {
                 "Height": 0.007877764292061329,
                 "Left": 0.23195870220661163,
                 "Top": 0.35321009159088135,
                 "Width": 0.008447963744401932
                },
                "Polygon": [
                 {
                  "X": 0.2319660484790802,
                  "Y": 0.35321009159088135
                 },
                 {
                  "X": 0.24040667712688446,
                  "Y": 0.3532227873802185
                 },
                 {
                  "X": 0.24039939045906067,
                  "Y": 0.3610878586769104
                 },
                 {
                  "X": 0.23195870220661163,
                  "Y": 0.36107516288757324
                 }
                ]
               },
               "Text": "2"
              }
             ]
            },
            {
             "Type": "CURRENT_GROSS_PAY",
             "ValueDetections": [
              {
               "Confidence": 97,
               "Geometry": {
                "BoundingBox": {
                 "Height": 0.009800834581255913,
                 "Left": 0.3537830710411072,
                 "Top": 0.4687081277370453,
                 "Width": 0.06376424431800842
                },
                "Polygon": [
                 {
                  "X": 0.35379117727279663,
                  "Y": 0.4687081277370453
                 },
                 {
                  "X": 0.4175473153591156,
                  "Y": 0.4688027799129486
                 },
                 {
                  "X": 0.41753971576690674,
                  "Y": 0.47850894927978516
                 },
                 {
                  "X": 0.3537830710411072,
                  "Y": 0.4784144163131714
                 }
                ]
               },
               "Text": "$ 452.43"
              }
             ]
            },
            {
             "Type": "YTD_GROSS_PAY",
             "ValueDetections": [
              {
               "Confidence": 95,
               "Geometry": {
                "BoundingBox": {
                 "Height": 0.00980784185230732,
                 "Left": 0.46031197905540466,
                 "Top": 0.46943721175193787,
                 "Width": 0.06860318779945374
                },
                "Polygon": [
                 {
                  "X": 0.46031925082206726,
                  "Y": 0.46943721175193787
                 },
                 {
                  "X": 0.5289151668548584,
                  "Y": 0.4695390462875366
                 },
                 {
                  "X": 0.5289084315299988,
                  "Y": 0.47924506664276123
                 },
                 {
                  "X": 0.46031197905540466,
                  "Y": 0.479143351316452
                 }
                ]
               },
               "Text": "23,526.80"
              }
             ]
            },
            {
             "Type": "CURRENT_NET_PAY",
             "ValueDetections": [
              {
               "Confidence": 95,
               "Geometry": {
                "BoundingBox": {
                 "Height": 0.010368704795837402,
                 "Left": 0.35759854316711426,
                 "Top": 0.7325505614280701,
                 "Width": 0.06054932624101639
                },
                "Polygon": [
                 {
                  "X": 0.3576070964336395,
                  "Y": 0.7325505614280701
                 },
                 {
                  "X": 0.41814789175987244,
                  "Y": 0.7326377630233765
                 },
                 {
                  "X": 0.41813984513282776,
                  "Y": 0.7429192662239075
                 },
                 {
                  "X": 0.35759854316711426,
                  "Y": 0.7428321838378906
                 }
                ]
               },
               "Text": "$ 291.90"
              }
             ]
            },
            {
             "Type": "YTD_NET_PAY",
             "ValueDetections": []
            },
            {
             "Type": "REGULAR_HOURLY_RATE",
             "ValueDetections": [
              {
               "Confidence": 99,
               "Geometry": {
                "BoundingBox": {
                 "Height": 0.008620492182672024,
                 "Left": 0.15610429644584656,
                 "Top": 0.4130327105522156,
                 "Width": 0.037940364331007004
                },
                "Polygon": [
                 {
                  "X": 0.15611280500888824,
                  "Y": 0.4130327105522156
                 },
                 {
                  "X": 0.19404464960098267,
                  "Y": 0.413089394569397
                 },
                 {
                  "X": 0.19403640925884247,
                  "Y": 0.42165321111679077
                 },
                 {
                  "X": 0.15610429644584656,
                  "Y": 0.42159661650657654
                 }
                ]
               },
               "Text": "10.00"
              }
             ]
            },
            {
             "Type": "HOLIDAY_HOURLY_RATE",
             "ValueDetections": [
              {
               "Confidence": 99,
               "Geometry": {
                "BoundingBox": {
                 "Height": 0.00804974976927042,
                 "Left": 0.1560770720243454,
                 "Top": 0.4410085082054138,
                 "Width": 0.037940651178359985
                },
                "Polygon": [
                 {
                  "X": 0.15608501434326172,
                  "Y": 0.4410085082054138
                 },
                 {
                  "X": 0.19401772320270538,
                  "Y": 0.4410649836063385
                 },
                 {
                  "X": 0.19401001930236816,
                  "Y": 0.44905826449394226
                 },
                 {
                  "X": 0.1560770720243454,
                  "Y": 0.44900181889533997
                 }
                ]
               },
               "Text": "10.00"
              }
             ]
            },
            {
             "Type": "YTD_CHILD_SUPPORT",
             "ValueDetections": []
            },
            {
             "Type": "YTD_GARNISHMENTS",
             "ValueDetections": []
            },
            {
             "Type": "CURRENT_CHILD_SUPPORT",
             "ValueDetections": []
            },
            {
             "Type": "CURRENT_GARNISHMENTS",
             "ValueDetections": []
            },
            {
             "Type": "WARNINGS_MESSAGES_NOTES",
             "ValueDetections": [
              {
               "Confidence": 66,
               "Text": "EFFECTIVE THIS PAY PERIOD YOUR REGULAR HOURLY RATE HAS BEEN CHANGED FROM $8.00 TO $10.00 PER HOUR."
              }
             ]
            },
            {
             "Type": "CURRENT_REGULAR_PAY",
             "ValueDetections": [
              {
               "Confidence": 64,
               "Text": "320"
              }
             ]
            },
            {
             "Type": "YTD_REGULAR_PAY",
             "ValueDetections": [
              {
               "Confidence": 97,
               "Geometry": {
                "BoundingBox": {
                 "Height": 0.009805193170905113,
                 "Left": 0.4619683027267456,
                 "Top": 0.41291871666908264,
                 "Width": 0.066986083984375
                },
                "Polygon": [
                 {
                  "X": 0.4619755446910858,
                  "Y": 0.41291871666908264
                 },
                 {
                  "X": 0.5289543867111206,
                  "Y": 0.41301876306533813
                 },
                 {
                  "X": 0.528947651386261,
                  "Y": 0.4227239191532135
                 },
                 {
                  "X": 0.4619683027267456,
                  "Y": 0.42262396216392517
                 }
                ]
               },
               "Text": "16,640.00"
              }
             ]
            }
           ],
           "SignatureDetections": []
          }
         }
        ],
        "Page": 1,
        "PageClassification": {
         "PageNumber": [
          {
           "Confidence": 100,
           "Value": "undetected"
          }
         ],
         "PageType": [
          {
           "Confidence": 99.99993896484375,
           "Value": "PAYSLIPS"
          }
         ]
        }
       },
       {
        "Extractions": [
         {
          "LendingDocument": {
           "LendingFields": [
            {
             "Type": "CHECK_NUMBER",
             "ValueDetections": [
              {
               "Confidence": 95,
               "Geometry": {
                "BoundingBox": {
                 "Height": 0.008867157623171806,
                 "Left": 0.7509735822677612,
                 "Top": 0.3965289294719696,
                 "Width": 0.08121629059314728
                },
                "Polygon": [
                 {
                  "X": 0.7509735822677612,
                  "Y": 0.3965289294719696
                 },
                 {
                  "X": 0.832176148891449,
                  "Y": 0.3966507315635681
                 },
                 {
                  "X": 0.8321898579597473,
                  "Y": 0.40539607405662537
                 },
                 {
                  "X": 0.7509866952896118,
                  "Y": 0.4052744507789612
                 }
                ]
               },
               "Text": "0000000000"
              }
             ]
            },
            {
             "Type": "DATE",
             "ValueDetections": [
              {
               "Confidence": 98,
               "Geometry": {
                "BoundingBox": {
                 "Height": 0.009225642308592796,
                 "Left": 0.750994086265564,
                 "Top": 0.41021764278411865,
                 "Width": 0.06669815629720688
                },
                "Polygon": [
                 {
                  "X": 0.750994086265564,
                  "Y": 0.41021764278411865
                 },
                 {
                  "X": 0.8176780343055725,
                  "Y": 0.41031742095947266
                 },
                 {
                  "X": 0.817692220211029,
                  "Y": 0.419443279504776
                 },
                 {
                  "X": 0.7510077357292175,
                  "Y": 0.41934362053871155
                 }
                ]
               },
               "Text": "7/25/2008"
              }
             ]
            },
            {
             "Type": "CHECK_AMOUNT_IN_WORDS",
             "ValueDetections": [
              {
               "Confidence": 56,
               "Geometry": {
                "BoundingBox": {
                 "Height": 0.01006187591701746,
                 "Left": 0.16211281716823578,
                 "Top": 0.488064169883728,
                 "Width": 0.37494784593582153
                },
                "Polygon": [
                 {
                  "X": 0.16211281716823578,
                  "Y": 0.488064169883728
                 },
                 {
                  "X": 0.5370482206344604,
                  "Y": 0.4886179566383362
                 },
                 {
                  "X": 0.5370606780052185,
                  "Y": 0.4981260299682617
                 },
                 {
                  "X": 0.16212210059165955,
                  "Y": 0.4975731074810028
                 }
                ]
               },
               "Text": "TWO HUNDRED NINETY ONE AND 90/100 DOLLARS"
              }
             ]
            },
            {
             "Type": "DOLLAR_AMOUNT",
             "ValueDetections": [
              {
               "Confidence": 82,
               "Geometry": {
                "BoundingBox": {
                 "Height": 0.010346338152885437,
                 "Left": 0.8850228786468506,
                 "Top": 0.4879910945892334,
                 "Width": 0.053256966173648834
                },
                "Polygon": [
                 {
                  "X": 0.8850228786468506,
                  "Y": 0.4879910945892334
                 },
                 {
                  "X": 0.9382627606391907,
                  "Y": 0.4880697429180145
                 },
                 {
                  "X": 0.9382798671722412,
                  "Y": 0.49833741784095764
                 },
                 {
                  "X": 0.8850395083427429,
                  "Y": 0.49825891852378845
                 }
                ]
               },
               "Text": "$291.90"
              }
             ]
            },
            {
             "Type": "PAYEE_NAME",
             "ValueDetections": [
              {
               "Confidence": 55,
               "Geometry": {
                "BoundingBox": {
                 "Height": 0.011190748773515224,
                 "Left": 0.16155700385570526,
                 "Top": 0.46980661153793335,
                 "Width": 0.10867863148450851
                },
                "Polygon": [
                 {
                  "X": 0.16155700385570526,
                  "Y": 0.46980661153793335
                 },
                 {
                  "X": 0.27022379636764526,
                  "Y": 0.46996763348579407
                 },
                 {
                  "X": 0.2702356278896332,
                  "Y": 0.48099738359451294
                 },
                 {
                  "X": 0.1615677773952484,
                  "Y": 0.4808366596698761
                 }
                ]
               },
               "Text": "JOHN STILES"
              }
             ]
            },
            {
             "Type": "BORROWER_NAME",
             "ValueDetections": [
              {
               "Confidence": 86,
               "Geometry": {
                "BoundingBox": {
                 "Height": 0.011190748773515224,
                 "Left": 0.16155700385570526,
                 "Top": 0.46980661153793335,
                 "Width": 0.10867863148450851
                },
                "Polygon": [
                 {
                  "X": 0.16155700385570526,
                  "Y": 0.46980661153793335
                 },
                 {
                  "X": 0.27022379636764526,
                  "Y": 0.46996763348579407
                 },
                 {
                  "X": 0.2702356278896332,
                  "Y": 0.48099738359451294
                 },
                 {
                  "X": 0.1615677773952484,
                  "Y": 0.4808366596698761
                 }
                ]
               },
               "Text": "JOHN STILES"
              }
             ]
            },
            {
             "Type": "ACCOUNT_NUMBER",
             "ValueDetections": [
              {
               "Confidence": 92,
               "Text": "4040110157"
              }
             ]
            },
            {
             "Type": "BORROWER_ADDRESS",
             "ValueDetections": []
            },
            {
             "Type": "BANK_ROUTING_NUMBER",
             "ValueDetections": [
              {
               "Confidence": 76,
               "Text": "122000496"
              }
             ]
            },
            {
             "Type": "MEMO",
             "ValueDetections": []
            },
            {
             "Type": "ACCOUNT_NAME",
             "ValueDetections": []
            },
            {
             "Type": "BANK_NAME",
             "ValueDetections": []
            }
           ],
           "SignatureDetections": [
            {
             "Confidence": 76.95525360107422,
             "Geometry": {
              "BoundingBox": {
               "Height": 0.05497800558805466,
               "Left": 0.5429468750953674,
               "Top": 0.5141476392745972,
               "Width": 0.3373153507709503
              },
              "Polygon": [
               {
                "X": 0.5429468750953674,
                "Y": 0.5141476392745972
               },
               {
                "X": 0.8801743984222412,
                "Y": 0.5146436095237732
               },
               {
                "X": 0.8802622556686401,
                "Y": 0.5691256523132324
               },
               {
                "X": 0.5430184602737427,
                "Y": 0.5686342120170593
               }
              ]
             }
            }
           ]
          }
         }
        ],
        "Page": 2,
        "PageClassification": {
         "PageNumber": [
          {
           "Confidence": 100,
           "Value": "undetected"
          }
         ],
         "PageType": [
          {
           "Confidence": 99.98819732666016,
           "Value": "CHECKS"
          }
         ]
        }
       },
       {
        "Extractions": [
         {
          "IdentityDocument": {
           "IdentityDocumentFields": [
            {
             "Type": {
              "Text": "FIRST_NAME"
             },
             "ValueDetection": {
              "Confidence": 98.57321166992188,
              "Text": "GARCIA"
             }
            },
            {
             "Type": {
              "Text": "LAST_NAME"
             },
             "ValueDetection": {
              "Confidence": 98.20465850830078,
              "Text": "MARIA"
             }
            },
            {
             "Type": {
              "Text": "MIDDLE_NAME"
             },
             "ValueDetection": {
              "Confidence": 99.1961669921875,
              "Text": ""
             }
            },
            {
             "Type": {
              "Text": "SUFFIX"
             },
             "ValueDetection": {
              "Confidence": 99.16175079345703,
              "Text": ""
             }
            },
            {
             "Type": {
              "Text": "CITY_IN_ADDRESS"
             },
             "ValueDetection": {
              "Confidence": 97.36474609375,
              "Text": "BIGTOWN"
             }
            },
            {
             "Type": {
              "Text": "ZIP_CODE_IN_ADDRESS"
             },
             "ValueDetection": {
              "Confidence": 97.6949691772461,
              "Text": "02801"
             }
            },
            {
             "Type": {
              "Text": "STATE_IN_ADDRESS"
             },
             "ValueDetection": {
              "Confidence": 98.78621673583984,
              "Text": "MA"
             }
            },
            {
             "Type": {
              "Text": "STATE_NAME"
             },
             "ValueDetection": {
              "Confidence": 97.09445190429688,
              "Text": "MASSACHUSETTS"
             }
            },
            {
             "Type": {
              "Text": "DOCUMENT_NUMBER"
             },
             "ValueDetection": {
              "Confidence": 94.28113555908203,
              "Text": "736HDV7874JSB"
             }
            },
            {
             "Type": {
              "Text": "EXPIRATION_DATE"
             },
             "ValueDetection": {
              "Confidence": 97.49853515625,
              "NormalizedValue": {
               "Value": "2028-01-20T00:00:00",
               "ValueType": "Date"
              },
              "Text": "01/20/2028"
             }
            },
            {
             "Type": {
              "Text": "DATE_OF_BIRTH"
             },
             "ValueDetection": {
              "Confidence": 94.49516296386719,
              "NormalizedValue": {
               "Value": "2001-03-18T00:00:00",
               "ValueType": "Date"
              },
              "Text": "03/18/2001"
             }
            },
            {
             "Type": {
              "Text": "DATE_OF_ISSUE"
             },
             "ValueDetection": {
              "Confidence": 97.86656951904297,
              "NormalizedValue": {
               "Value": "2018-03-18T00:00:00",
               "ValueType": "Date"
              },
              "Text": "03/18/2018"
             }
            },
            {
             "Type": {
              "Text": "ID_TYPE"
             },
             "ValueDetection": {
              "Confidence": 97.06005859375,
              "Text": "DRIVER LICENSE FRONT"
             }
            },
            {
             "Type": {
              "Text": "ENDORSEMENTS"
             },
             "ValueDetection": {
              "Confidence": 98.48031616210938,
              "Text": "NONE"
             }
            },
            {
             "Type": {
              "Text": "VETERAN"
             },
             "ValueDetection": {
              "Confidence": 99.17579650878906,
              "Text": ""
             }
            },
            {
             "Type": {
              "Text": "RESTRICTIONS"
             },
             "ValueDetection": {
              "Confidence": 98.47126007080078,
              "Text": "NONE"
             }
            },
            {
             "Type": {
              "Text": "CLASS"
             },
             "ValueDetection": {
              "Confidence": 97.85075378417969,
              "Text": "D"
             }
            },
            {
             "Type": {
              "Text": "ADDRESS"
             },
             "ValueDetection": {
              "Confidence": 97.35111236572266,
              "Text": "100 MARKET STREET"
             }
            },
            {
             "Type": {
              "Text": "COUNTY"
             },
             "ValueDetection": {
              "Confidence": 99.17726135253906,
              "Text": ""
             }
            },
            {
             "Type": {
              "Text": "PLACE_OF_BIRTH"
             },
             "ValueDetection": {
              "Confidence": 99.16987609863281,
              "Text": ""
             }
            },
            {
             "Type": {
              "Text": "MRZ_CODE"
             },
             "ValueDetection": {
              "Confidence": 97.5233383178711,
              "Text": ""
             }
            }
           ]
          }
         }
        ],
        "Page": 3,
        "PageClassification": {
         "PageNumber": [
          {
           "Confidence": 100,
           "Value": "undetected"
          }
         ],
         "PageType": [
          {
           "Confidence": 99.9999771118164,
           "Value": "IDENTITY_DOCUMENT"
          }
         ]
        }
       },
       {
        "Extractions": [
         {
          "LendingDocument": {
           "LendingFields": [
            {
             "KeyDetection": {
              "Confidence": 99.99118041992188,
              "Geometry": {
               "BoundingBox": {
                "Height": 0.010416543111205101,
                "Left": 0.32660913467407227,
                "Top": 0.03177279606461525,
                "Width": 0.03897733986377716
               },
               "Polygon": [
                {
                 "X": 0.32660987973213196,
                 "Y": 0.03177279606461525
                },
                {
                 "X": 0.36558645963668823,
                 "Y": 0.03182689845561981
                },
                {
                 "X": 0.3655853271484375,
                 "Y": 0.0421893373131752
                },
                {
                 "X": 0.32660913467407227,
                 "Y": 0.04213625565171242
                }
               ]
              },
              "Text": "VOID"
             },
             "Type": "VOID",
             "ValueDetections": [
              {
               "Confidence": 91.259765625,
               "Geometry": {
                "BoundingBox": {
                 "Height": 0.012571334838867188,
                 "Left": 0.30495402216911316,
                 "Top": 0.030505497008562088,
                 "Width": 0.01615298166871071
                },
                "Polygon": [
                 {
                  "X": 0.3049546778202057,
                  "Y": 0.030505497008562088
                 },
                 {
                  "X": 0.32110700011253357,
                  "Y": 0.03052796795964241
                 },
                 {
                  "X": 0.3211061358451843,
                  "Y": 0.043076831847429276
                 },
                 {
                  "X": 0.30495402216911316,
                  "Y": 0.04305487126111984
                 }
                ]
               },
               "SelectionStatus": "NOT_SELECTED"
              }
             ]
            },
            {
             "KeyDetection": {
              "Confidence": 99.99586486816406,
              "Geometry": {
               "BoundingBox": {
                "Height": 0.010495373979210854,
                "Left": 0.4214378297328949,
                "Top": 0.0319044291973114,
                "Width": 0.09868024289608002
               },
               "Polygon": [
                {
                 "X": 0.421439528465271,
                 "Y": 0.0319044291973114
                },
                {
                 "X": 0.5201180577278137,
                 "Y": 0.03204140439629555
                },
                {
                 "X": 0.5201154351234436,
                 "Y": 0.042399805039167404
                },
                {
                 "X": 0.4214378297328949,
                 "Y": 0.042265407741069794
                }
               ]
              },
              "Text": "CORRECTED"
             },
             "Type": "CORRECTED",
             "ValueDetections": [
              {
               "Confidence": 94.775390625,
               "Geometry": {
                "BoundingBox": {
                 "Height": 0.012568358331918716,
                 "Left": 0.39891165494918823,
                 "Top": 0.03048320859670639,
                 "Width": 0.016146445646882057
                },
                "Polygon": [
                 {
                  "X": 0.3989134430885315,
                  "Y": 0.03048320859670639
                 },
                 {
                  "X": 0.41505810618400574,
                  "Y": 0.030505675822496414
                 },
                 {
                  "X": 0.41505613923072815,
                  "Y": 0.04305156692862511
                 },
                 {
                  "X": 0.39891165494918823,
                  "Y": 0.04302961006760597
                 }
                ]
               },
               "SelectionStatus": "SELECTED"
              }
             ]
            },
            {
             "KeyDetection": {
              "Confidence": 99.96592712402344,
              "Geometry": {
               "BoundingBox": {
                "Height": 0.02023491822183132,
                "Left": 0.08825574070215225,
                "Top": 0.049170635640621185,
                "Width": 0.3864205777645111
               },
               "Polygon": [
                {
                 "X": 0.08825574070215225,
                 "Y": 0.049170635640621185
                },
                {
                 "X": 0.47467634081840515,
                 "Y": 0.04968975856900215
                },
                {
                 "X": 0.4746721088886261,
                 "Y": 0.06940555572509766
                },
                {
                 "X": 0.08825874328613281,
                 "Y": 0.06890566647052765
                }
               ]
              },
              "Text": "PAYER'S name, street address, city or town, state or province, country, ZIP or foreign postal code, and telephone no."
             },
             "Type": "PAYER_NAME_AND_ADDRESS_AND_TELEPHONE_NUMBER",
             "ValueDetections": [
              {
               "Confidence": 99.98358154296875,
               "Geometry": {
                "BoundingBox": {
                 "Height": 0.06111476197838783,
                 "Left": 0.17929932475090027,
                 "Top": 0.08440603315830231,
                 "Width": 0.233906552195549
                },
                "Polygon": [
                 {
                  "X": 0.17929932475090027,
                  "Y": 0.08440603315830231
                 },
                 {
                  "X": 0.4132058918476105,
                  "Y": 0.08469955623149872
                 },
                 {
                  "X": 0.4131964147090912,
                  "Y": 0.14552079141139984
                 },
                 {
                  "X": 0.1793033480644226,
                  "Y": 0.1452631801366806
                 }
                ]
               },
               "Text": "Ana Carolina Silva 123 Any Street, Any Town, USA 555-0199"
              }
             ]
            },
            {
             "KeyDetection": {
              "Confidence": 99.9322280883789,
              "Geometry": {
               "BoundingBox": {
                "Height": 0.009544756263494492,
                "Left": 0.4885231554508209,
                "Top": 0.04837172105908394,
                "Width": 0.1423274427652359
               },
               "Polygon": [
                {
                 "X": 0.48852527141571045,
                 "Y": 0.04837172105908394
                },
                {
                 "X": 0.630850613117218,
                 "Y": 0.048563402146101
                },
                {
                 "X": 0.6308472156524658,
                 "Y": 0.05791647732257843
                },
                {
                 "X": 0.4885231554508209,
                 "Y": 0.057728156447410583
                }
               ]
              },
              "Text": "1a Total ordinary dividends"
             },
             "Type": "TOTAL_ORDINARY_DIVIDENDS",
             "ValueDetections": [
              {
               "Confidence": 99.89154052734375,
               "Geometry": {
                "BoundingBox": {
                 "Height": 0.010806323029100895,
                 "Left": 0.4889490604400635,
                 "Top": 0.07710937410593033,
                 "Width": 0.09129005670547485
                },
                "Polygon": [
                 {
                  "X": 0.4889514744281769,
                  "Y": 0.07710937410593033
                 },
                 {
                  "X": 0.5802391171455383,
                  "Y": 0.0772257000207901
                 },
                 {
                  "X": 0.5802357792854309,
                  "Y": 0.08791569620370865
                 },
                 {
                  "X": 0.4889490604400635,
                  "Y": 0.08780183643102646
                 }
                ]
               },
               "Text": "$ 1000"
              }
             ]
            },
            {
             "KeyDetection": {
              "Confidence": 99.6236801147461,
              "Geometry": {
               "BoundingBox": {
                "Height": 0.008079716004431248,
                "Left": 0.6524689197540283,
                "Top": 0.04759044945240021,
                "Width": 0.04756108671426773
               },
               "Polygon": [
                {
                 "X": 0.6524720191955566,
                 "Y": 0.04759044945240021
                },
                {
                 "X": 0.7000300288200378,
                 "Y": 0.04765462130308151
                },
                {
                 "X": 0.7000266313552856,
                 "Y": 0.05567016825079918
                },
                {
                 "X": 0.6524689197540283,
                 "Y": 0.055606961250305176
                }
               ]
              },
              "Text": "OMB No."
             },
             "Type": "OMB_NUMBER",
             "ValueDetections": [
              {
               "Confidence": 99.92829895019531,
               "Geometry": {
                "BoundingBox": {
                 "Height": 0.007755025289952755,
                 "Left": 0.7034848928451538,
                 "Top": 0.04799326881766319,
                 "Width": 0.055328190326690674
                },
                "Polygon": [
                 {
                  "X": 0.7034882307052612,
                  "Y": 0.04799326881766319
                 },
                 {
                  "X": 0.7588130831718445,
                  "Y": 0.04806787148118019
                 },
                 {
                  "X": 0.7588093876838684,
                  "Y": 0.05574829503893852
                 },
                 {
                  "X": 0.7034848928451538,
                  "Y": 0.05567476525902748
                 }
                ]
               },
               "Text": "1545-0110"
              }
             ]
            },
            {
             "KeyDetection": {
              "Confidence": 99.9594955444336,
              "Geometry": {
               "BoundingBox": {
                "Height": 0.008161187171936035,
                "Left": 0.488945871591568,
                "Top": 0.09381625056266785,
                "Width": 0.11723848432302475
               },
               "Polygon": [
                {
                 "X": 0.48894768953323364,
                 "Y": 0.09381625056266785
                },
                {
                 "X": 0.6061843633651733,
                 "Y": 0.09396069496870041
                },
                {
                 "X": 0.6061816215515137,
                 "Y": 0.10197743773460388
                },
                {
                 "X": 0.488945871591568,
                 "Y": 0.10183536261320114
                }
               ]
              },
              "Text": "1b Qualified dividends"
             },
             "Type": "QUALIFIED_DIVIDENDS",
             "ValueDetections": [
              {
               "Confidence": 99.90045166015625,
               "Geometry": {
                "BoundingBox": {
                 "Height": 0.012427822686731815,
                 "Left": 0.48937150835990906,
                 "Top": 0.12054666131734848,
                 "Width": 0.05797931179404259
                },
                "Polygon": [
                 {
                  "X": 0.4893743395805359,
                  "Y": 0.12054666131734848
                 },
                 {
                  "X": 0.5473508238792419,
                  "Y": 0.1206141859292984
                 },
                 {
                  "X": 0.547347366809845,
                  "Y": 0.13297449052333832
                 },
                 {
                  "X": 0.48937150835990906,
                  "Y": 0.13290877640247345
                 }
                ]
               },
               "Text": "$ 500"
              }
             ]
            },
            {
             "KeyDetection": {
              "Confidence": 99.98013305664062,
              "Geometry": {
               "BoundingBox": {
                "Height": 0.008046182803809643,
                "Left": 0.6589251756668091,
                "Top": 0.12374987453222275,
                "Width": 0.02723943069577217
               },
               "Polygon": [
                {
                 "X": 0.6589282751083374,
                 "Y": 0.12374987453222275
                },
                {
                 "X": 0.6861646175384521,
                 "Y": 0.12378138303756714
                },
                {
                 "X": 0.6861612796783447,
                 "Y": 0.13179604709148407
                },
                {
                 "X": 0.6589251756668091,
                 "Y": 0.13176509737968445
                }
               ]
              },
              "Text": "Form"
             },
             "Type": "FORM",
             "ValueDetections": [
              {
               "Confidence": 99.97026062011719,
               "Geometry": {
                "BoundingBox": {
                 "Height": 0.009419595822691917,
                 "Left": 0.692213237285614,
                 "Top": 0.12245261669158936,
                 "Width": 0.06094604358077049
                },
                "Polygon": [
                 {
                  "X": 0.6922171711921692,
                  "Y": 0.12245261669158936
                 },
                 {
                  "X": 0.7531592845916748,
                  "Y": 0.12252333760261536
                 },
                 {
                  "X": 0.7531548142433167,
                  "Y": 0.13187220692634583
                 },
                 {
                  "X": 0.692213237285614,
                  "Y": 0.13180293142795563
                 }
                ]
               },
               "Text": "1099-DIV"
              }
             ]
            },
            {
             "KeyDetection": {
              "Confidence": 99.97061920166016,
              "Geometry": {
               "BoundingBox": {
                "Height": 0.00950340460985899,
                "Left": 0.4880698025226593,
                "Top": 0.1392553150653839,
                "Width": 0.13582928478717804
               },
               "Polygon": [
                {
                 "X": 0.48807191848754883,
                 "Y": 0.1392553150653839
                },
                {
                 "X": 0.6238991022109985,
                 "Y": 0.13940709829330444
                },
                {
                 "X": 0.6238957643508911,
                 "Y": 0.14875872433185577
                },
                {
                 "X": 0.4880698025226593,
                 "Y": 0.1486101597547531
                }
               ]
              },
              "Text": "2a Total capital gain distr."
             },
             "Type": "TOTAL_CAPITAL_GAIN_DISTR",
             "ValueDetections": [
              {
               "Confidence": 99.88539123535156,
               "Geometry": {
                "BoundingBox": {
                 "Height": 0.010771838948130608,
                 "Left": 0.4893645942211151,
                 "Top": 0.15262073278427124,
                 "Width": 0.07657741010189056
                },
                "Polygon": [
                 {
                  "X": 0.4893670380115509,
                  "Y": 0.15262073278427124
                 },
                 {
                  "X": 0.5659419894218445,
                  "Y": 0.15270371735095978
                 },
                 {
                  "X": 0.5659387707710266,
                  "Y": 0.1633925586938858
                 },
                 {
                  "X": 0.4893645942211151,
                  "Y": 0.1633116453886032
                 }
                ]
               },
               "Text": "$ 8000"
              }
             ]
            },
            {
             "KeyDetection": {
              "Confidence": 99.96981811523438,
              "Geometry": {
               "BoundingBox": {
                "Height": 0.009511202573776245,
                "Left": 0.6528657078742981,
                "Top": 0.13943946361541748,
                "Width": 0.14651907980442047
               },
               "Polygon": [
                {
                 "X": 0.6528692841529846,
                 "Y": 0.13943946361541748
                },
                {
                 "X": 0.7993847727775574,
                 "Y": 0.13960318267345428
                },
                {
                 "X": 0.7993798851966858,
                 "Y": 0.14895066618919373
                },
                {
                 "X": 0.6528657078742981,
                 "Y": 0.1487904042005539
                }
               ]
              },
              "Text": "2b Unrecap. Sec. 1250 gain"
             },
             "Type": "UNRECAP._SEC._1250_GAIN",
             "ValueDetections": [
              {
               "Confidence": 99.909912109375,
               "Geometry": {
                "BoundingBox": {
                 "Height": 0.0110889608040452,
                 "Left": 0.653724730014801,
                 "Top": 0.1524648815393448,
                 "Width": 0.06484638154506683
                },
                "Polygon": [
                 {
                  "X": 0.6537289619445801,
                  "Y": 0.1524648815393448
                 },
                 {
                  "X": 0.718571126461029,
                  "Y": 0.15253521502017975
                 },
                 {
                  "X": 0.7185662388801575,
                  "Y": 0.163553848862648
                 },
                 {
                  "X": 0.653724730014801,
                  "Y": 0.1634853333234787
                 }
                ]
               },
               "Text": "$ 300"
              }
             ]
            },
            {
             "KeyDetection": {
              "Confidence": 99.97736358642578,
              "Geometry": {
               "BoundingBox": {
                "Height": 0.007762238848954439,
                "Left": 0.08827386796474457,
                "Top": 0.16823861002922058,
                "Width": 0.06892798095941544
               },
               "Polygon": [
                {
                 "X": 0.08827386796474457,
                 "Y": 0.16823861002922058
                },
                {
                 "X": 0.15720118582248688,
                 "Y": 0.1683105081319809
                },
                {
                 "X": 0.1572018414735794,
                 "Y": 0.17600084841251373
                },
                {
                 "X": 0.08827503770589828,
                 "Y": 0.17593027651309967
                }
               ]
              },
              "Text": "PAYER'S TIN"
             },
             "Type": "PAYER_TIN",
             "ValueDetections": [
              {
               "Confidence": 99.996337890625,
               "Geometry": {
                "BoundingBox": {
                 "Height": 0.008784034289419651,
                 "Left": 0.14940212666988373,
                 "Top": 0.19839492440223694,
                 "Width": 0.0961991399526596
                },
                "Polygon": [
                 {
                  "X": 0.14940212666988373,
                  "Y": 0.19839492440223694
                 },
                 {
                  "X": 0.24560123682022095,
                  "Y": 0.19848798215389252
                 },
                 {
                  "X": 0.24560126662254333,
                  "Y": 0.2071789652109146
                 },
                 {
                  "X": 0.1494029462337494,
                  "Y": 0.20708802342414856
                 }
                ]
               },
               "Text": "4444-5555-6666"
              }
             ]
            },
            {
             "KeyDetection": {
              "Confidence": 99.97323608398438,
              "Geometry": {
               "BoundingBox": {
                "Height": 0.008448883891105652,
                "Left": 0.2880534827709198,
                "Top": 0.16811276972293854,
                "Width": 0.09050672501325607
               },
               "Polygon": [
                {
                 "X": 0.28805381059646606,
                 "Y": 0.16811276972293854
                },
                {
                 "X": 0.37856021523475647,
                 "Y": 0.16820725798606873
                },
                {
                 "X": 0.3785592019557953,
                 "Y": 0.1765616536140442
                },
                {
                 "X": 0.2880534827709198,
                 "Y": 0.17646905779838562
                }
               ]
              },
              "Text": "RECIPIENT'S TIN"
             },
             "Type": "RECIPIENT_TIN",
             "ValueDetections": [
              {
               "Confidence": 99.96683502197266,
               "Geometry": {
                "BoundingBox": {
                 "Height": 0.008779231458902359,
                 "Left": 0.35041314363479614,
                 "Top": 0.19658426940441132,
                 "Width": 0.09523707628250122
                },
                "Polygon": [
                 {
                  "X": 0.350413978099823,
                  "Y": 0.19658426940441132
                 },
                 {
                  "X": 0.44565021991729736,
                  "Y": 0.19667688012123108
                 },
                 {
                  "X": 0.4456486105918884,
                  "Y": 0.20536351203918457
                 },
                 {
                  "X": 0.35041314363479614,
                  "Y": 0.20527298748493195
                 }
                ]
               },
               "Text": "1111-2222-3333"
              }
             ]
            },
            {
             "KeyDetection": {
              "Confidence": 99.96732330322266,
              "Geometry": {
               "BoundingBox": {
                "Height": 0.009468689560890198,
                "Left": 0.48806291818618774,
                "Top": 0.16965793073177338,
                "Width": 0.11247386038303375
               },
               "Polygon": [
                {
                 "X": 0.48806503415107727,
                 "Y": 0.16965793073177338
                },
                {
                 "X": 0.6005367636680603,
                 "Y": 0.16977497935295105
                },
                {
                 "X": 0.600533664226532,
                 "Y": 0.17912662029266357
                },
                {
                 "X": 0.48806291818618774,
                 "Y": 0.1790122240781784
                }
               ]
              },
              "Text": "2c Section 1202 gain"
             },
             "Type": "SECTION_1202_GAIN",
             "ValueDetections": [
              {
               "Confidence": 99.91862487792969,
               "Geometry": {
                "BoundingBox": {
                 "Height": 0.010750098153948784,
                 "Left": 0.4889249801635742,
                 "Top": 0.18302203714847565,
                 "Width": 0.061003610491752625
                },
                "Polygon": [
                 {
                  "X": 0.48892742395401,
                  "Y": 0.18302203714847565
                 },
                 {
                  "X": 0.549928605556488,
                  "Y": 0.1830834597349167
                 },
                 {
                  "X": 0.5499255657196045,
                  "Y": 0.19377213716506958
                 },
                 {
                  "X": 0.4889249801635742,
                  "Y": 0.19371235370635986
                 }
                ]
               },
               "Text": "$ 300"
              }
             ]
            },
            {
             "KeyDetection": {
              "Confidence": 99.96077728271484,
              "Geometry": {
               "BoundingBox": {
                "Height": 0.009490752592682838,
                "Left": 0.6528542041778564,
                "Top": 0.16949547827243805,
                "Width": 0.13787418603897095
               },
               "Polygon": [
                {
                 "X": 0.652857780456543,
                 "Y": 0.16949547827243805
                },
                {
                 "X": 0.7907283902168274,
                 "Y": 0.16963908076286316
                },
                {
                 "X": 0.7907235622406006,
                 "Y": 0.17898623645305634
                },
                {
                 "X": 0.6528542041778564,
                 "Y": 0.17884589731693268
                }
               ]
              },
              "Text": "2d Collectibles (28%) gain"
             },
             "Type": "COLLECTIBLES_28%_GAIN",
             "ValueDetections": [
              {
               "Confidence": 99.94542694091797,
               "Geometry": {
                "BoundingBox": {
                 "Height": 0.010757951997220516,
                 "Left": 0.6537132263183594,
                 "Top": 0.1828540414571762,
                 "Width": 0.07348816096782684
                },
                "Polygon": [
                 {
                  "X": 0.6537173390388489,
                  "Y": 0.1828540414571762
                 },
                 {
                  "X": 0.7272014021873474,
                  "Y": 0.18292808532714844
                 },
                 {
                  "X": 0.7271965742111206,
                  "Y": 0.1936119794845581
                 },
                 {
                  "X": 0.6537132263183594,
                  "Y": 0.19353991746902466
                 }
                ]
               },
               "Text": "$ 200"
              }
             ]
            },
            {
             "KeyDetection": {
              "Confidence": 99.9765853881836,
              "Geometry": {
               "BoundingBox": {
                "Height": 0.00916462391614914,
                "Left": 0.48805612325668335,
                "Top": 0.20005878806114197,
                "Width": 0.15398123860359192
               },
               "Polygon": [
                {
                 "X": 0.4880581498146057,
                 "Y": 0.20005878806114197
                },
                {
                 "X": 0.6420373320579529,
                 "Y": 0.20020721852779388
                },
                {
                 "X": 0.6420339941978455,
                 "Y": 0.2092234194278717
                },
                {
                 "X": 0.48805612325668335,
                 "Y": 0.20907849073410034
                }
               ]
              },
              "Text": "2e Section 897 ordinary dividends"
             },
             "Type": "SECTION_897_ORDINARY_DIVIDENDS",
             "ValueDetections": [
              {
               "Confidence": 99.89624786376953,
               "Geometry": {
                "BoundingBox": {
                 "Height": 0.010747144930064678,
                 "Left": 0.4889180660247803,
                 "Top": 0.21342206001281738,
                 "Width": 0.06359715759754181
                },
                "Polygon": [
                 {
                  "X": 0.48892050981521606,
                  "Y": 0.21342206001281738
                 },
                 {
                  "X": 0.5525152087211609,
                  "Y": 0.21348121762275696
                 },
                 {
                  "X": 0.5525121688842773,
                  "Y": 0.22416920959949493
                 },
                 {
                  "X": 0.4889180660247803,
                  "Y": 0.22411176562309265
                 }
                ]
               },
               "Text": "$ 1000"
              }
             ]
            },
            {
             "KeyDetection": {
              "Confidence": 99.97547149658203,
              "Geometry": {
               "BoundingBox": {
                "Height": 0.00948166660964489,
                "Left": 0.6528425812721252,
                "Top": 0.19988371431827545,
                "Width": 0.1400303691625595
               },
               "Polygon": [
                {
                 "X": 0.6528461575508118,
                 "Y": 0.19988371431827545
                },
                {
                 "X": 0.7928729057312012,
                 "Y": 0.20001880824565887
                },
                {
                 "X": 0.7928681373596191,
                 "Y": 0.2093653827905655
                },
                {
                 "X": 0.6528425812721252,
                 "Y": 0.2092335820198059
                }
               ]
              },
              "Text": "2f Section 897 capital gain"
             },
             "Type": "SECTION_897_CAPITAL_GAIN",
             "ValueDetections": [
              {
               "Confidence": 99.88630676269531,
               "Geometry": {
                "BoundingBox": {
                 "Height": 0.010736067779362202,
                 "Left": 0.6537016034126282,
                 "Top": 0.21324142813682556,
                 "Width": 0.05619862675666809
                },
                "Polygon": [
                 {
                  "X": 0.6537056565284729,
                  "Y": 0.21324142813682556
                 },
                 {
                  "X": 0.7099002003669739,
                  "Y": 0.21329374611377716
                 },
                 {
                  "X": 0.7098955512046814,
                  "Y": 0.2239774912595749
                 },
                 {
                  "X": 0.6537016034126282,
                  "Y": 0.22392669320106506
                 }
                ]
               },
               "Text": "$ 300"
              }
             ]
            },
            {
             "KeyDetection": {
              "Confidence": 99.96931457519531,
              "Geometry": {
               "BoundingBox": {
                "Height": 0.008112683892250061,
                "Left": 0.08871663361787796,
                "Top": 0.2287660539150238,
                "Width": 0.10055962949991226
               },
               "Polygon": [
                {
                 "X": 0.08871663361787796,
                 "Y": 0.2287660539150238
                },
                {
                 "X": 0.1892758160829544,
                 "Y": 0.22885560989379883
                },
                {
                 "X": 0.18927626311779022,
                 "Y": 0.23687873780727386
                },
                {
                 "X": 0.08871785551309586,
                 "Y": 0.2367912083864212
                }
               ]
              },
              "Text": "RECIPIENT'S name"
             },
             "Type": "RECIPIENT_NAME",
             "ValueDetections": [
              {
               "Confidence": 99.98857879638672,
               "Geometry": {
                "BoundingBox": {
                 "Height": 0.013477480039000511,
                 "Left": 0.20920901000499725,
                 "Top": 0.24993275105953217,
                 "Width": 0.13297316431999207
                },
                "Polygon": [
                 {
                  "X": 0.20920901000499725,
                  "Y": 0.24993275105953217
                 },
                 {
                  "X": 0.3421821594238281,
                  "Y": 0.2500441074371338
                 },
                 {
                  "X": 0.342180997133255,
                  "Y": 0.2634102404117584
                 },
                 {
                  "X": 0.20920950174331665,
                  "Y": 0.26330333948135376
                 }
                ]
               },
               "Text": "Alejandro Rosalez"
              }
             ]
            },
            {
             "KeyDetection": {
              "Confidence": 99.92887115478516,
              "Geometry": {
               "BoundingBox": {
                "Height": 0.007480101194232702,
                "Left": 0.48804959654808044,
                "Top": 0.23045790195465088,
                "Width": 0.15094999969005585
               },
               "Polygon": [
                {
                 "X": 0.48805126547813416,
                 "Y": 0.23045790195465088
                },
                {
                 "X": 0.6389995813369751,
                 "Y": 0.23059183359146118
                },
                {
                 "X": 0.6389968991279602,
                 "Y": 0.23793800175189972
                },
                {
                 "X": 0.48804959654808044,
                 "Y": 0.23780687153339386
                }
               ]
              },
              "Text": "3 Nondividend distributions"
             },
             "Type": "NONDIVIDEND_DISTRIBUTIONS",
             "ValueDetections": [
              {
               "Confidence": 99.94840240478516,
               "Geometry": {
                "BoundingBox": {
                 "Height": 0.010413028299808502,
                 "Left": 0.48934391140937805,
                 "Top": 0.2438206970691681,
                 "Width": 0.07008302211761475
                },
                "Polygon": [
                 {
                  "X": 0.4893462657928467,
                  "Y": 0.2438206970691681
                 },
                 {
                  "X": 0.5594269037246704,
                  "Y": 0.2438805103302002
                 },
                 {
                  "X": 0.5594238638877869,
                  "Y": 0.254233717918396
                 },
                 {
                  "X": 0.48934391140937805,
                  "Y": 0.25417575240135193
                 }
                ]
               },
               "Text": "$ 7000"
              }
             ]
            },
            {
             "KeyDetection": {
              "Confidence": 99.96221160888672,
              "Geometry": {
               "BoundingBox": {
                "Height": 0.00781609583646059,
                "Left": 0.6528315544128418,
                "Top": 0.23027019202709198,
                "Width": 0.15687362849712372
               },
               "Polygon": [
                {
                 "X": 0.6528344750404358,
                 "Y": 0.23027019202709198
                },
                {
                 "X": 0.8097051978111267,
                 "Y": 0.23040951788425446
                },
                {
                 "X": 0.8097010850906372,
                 "Y": 0.2380862981081009
                },
                {
                 "X": 0.6528315544128418,
                 "Y": 0.23795002698898315
                }
               ]
              },
              "Text": "4 Federal income tax withheld"
             },
             "Type": "FEDERAL_INCOME_TAX_WITHHELD",
             "ValueDetections": [
              {
               "Confidence": 99.93219757080078,
               "Geometry": {
                "BoundingBox": {
                 "Height": 0.012074960395693779,
                 "Left": 0.6536899209022522,
                 "Top": 0.24229148030281067,
                 "Width": 0.06613776832818985
                },
                "Polygon": [
                 {
                  "X": 0.6536945104598999,
                  "Y": 0.24229148030281067
                 },
                 {
                  "X": 0.7198277115821838,
                  "Y": 0.24234820902347565
                 },
                 {
                  "X": 0.719822347164154,
                  "Y": 0.2543664276599884
                 },
                 {
                  "X": 0.6536899209022522,
                  "Y": 0.2543117105960846
                 }
                ]
               },
               "Text": "$ 4500"
              }
             ]
            },
            {
             "KeyDetection": {
              "Confidence": 99.94866180419922,
              "Geometry": {
               "BoundingBox": {
                "Height": 0.007793553173542023,
                "Left": 0.48847538232803345,
                "Top": 0.2605215907096863,
                "Width": 0.1401366889476776
               },
               "Polygon": [
                {
                 "X": 0.48847711086273193,
                 "Y": 0.2605215907096863
                },
                {
                 "X": 0.6286120414733887,
                 "Y": 0.26063528656959534
                },
                {
                 "X": 0.628609299659729,
                 "Y": 0.2683151364326477
                },
                {
                 "X": 0.48847538232803345,
                 "Y": 0.2682041525840759
                }
               ]
              },
              "Text": "5 Section 199A dividends"
             },
             "Type": "SECTION_199A_DIVIDENDS",
             "ValueDetections": [
              {
               "Confidence": 99.90050506591797,
               "Geometry": {
                "BoundingBox": {
                 "Height": 0.010740098543465137,
                 "Left": 0.4893369674682617,
                 "Top": 0.2738831639289856,
                 "Width": 0.06878358125686646
                },
                "Polygon": [
                 {
                  "X": 0.4893394112586975,
                  "Y": 0.2738831639289856
                 },
                 {
                  "X": 0.5581205487251282,
                  "Y": 0.2739366590976715
                 },
                 {
                  "X": 0.5581174492835999,
                  "Y": 0.28462326526641846
                 },
                 {
                  "X": 0.4893369674682617,
                  "Y": 0.28457164764404297
                 }
                ]
               },
               "Text": "$ 8000"
              }
             ]
            },
            {
             "KeyDetection": {
              "Confidence": 99.92880249023438,
              "Geometry": {
               "BoundingBox": {
                "Height": 0.009116135537624359,
                "Left": 0.6528194546699524,
                "Top": 0.26065492630004883,
                "Width": 0.12835775315761566
               },
               "Polygon": [
                {
                 "X": 0.6528228521347046,
                 "Y": 0.26065492630004883
                },
                {
                 "X": 0.7811771631240845,
                 "Y": 0.2607590854167938
                },
                {
                 "X": 0.7811726331710815,
                 "Y": 0.2697710692882538
                },
                {
                 "X": 0.6528194546699524,
                 "Y": 0.2696698307991028
                }
               ]
              },
              "Text": "6 Investment expenses"
             },
             "Type": "INVESTMENT_EXPENSES",
             "ValueDetections": [
              {
               "Confidence": 99.89188385009766,
               "Geometry": {
                "BoundingBox": {
                 "Height": 0.011393972672522068,
                 "Left": 0.653678297996521,
                 "Top": 0.27334320545196533,
                 "Width": 0.056195687502622604
                },
                "Polygon": [
                 {
                  "X": 0.6536826491355896,
                  "Y": 0.27334320545196533
                 },
                 {
                  "X": 0.7098739743232727,
                  "Y": 0.27338701486587524
                 },
                 {
                  "X": 0.7098690271377563,
                  "Y": 0.2847371995449066
                 },
                 {
                  "X": 0.653678297996521,
                  "Y": 0.28469499945640564
                 }
                ]
               },
               "Text": "$ 600"
              }
             ]
            },
            {
             "KeyDetection": {
              "Confidence": 99.8276596069336,
              "Geometry": {
               "BoundingBox": {
                "Height": 0.009491965174674988,
                "Left": 0.08828999847173691,
                "Top": 0.27424001693725586,
                "Width": 0.1729058176279068
               },
               "Polygon": [
                {
                 "X": 0.08828999847173691,
                 "Y": 0.27424001693725586
                },
                {
                 "X": 0.2611958086490631,
                 "Y": 0.27437418699264526
                },
                {
                 "X": 0.26119571924209595,
                 "Y": 0.28373196721076965
                },
                {
                 "X": 0.08829142898321152,
                 "Y": 0.28360188007354736
                }
               ]
              },
              "Text": "Street address (including apt. no.)"
             },
             "Type": "ADDRESS_STREET",
             "ValueDetections": [
              {
               "Confidence": 99.96580505371094,
               "Geometry": {
                "BoundingBox": {
                 "Height": 0.0127749377861619,
                 "Left": 0.2048780918121338,
                 "Top": 0.29672524333000183,
                 "Width": 0.10742256790399551
                },
                "Polygon": [
                 {
                  "X": 0.2048780918121338,
                  "Y": 0.29672524333000183
                 },
                 {
                  "X": 0.3123006522655487,
                  "Y": 0.2968025207519531
                 },
                 {
                  "X": 0.3122998774051666,
                  "Y": 0.30950018763542175
                 },
                 {
                  "X": 0.20487861335277557,
                  "Y": 0.30942633748054504
                 }
                ]
               },
               "Text": "123 Any Street"
              }
             ]
            },
            {
             "KeyDetection": {
              "Confidence": 99.92817687988281,
              "Geometry": {
               "BoundingBox": {
                "Height": 0.009425348602235317,
                "Left": 0.4880354404449463,
                "Top": 0.2909168601036072,
                "Width": 0.1029476746916771
               },
               "Polygon": [
                {
                 "X": 0.4880375564098358,
                 "Y": 0.2909168601036072
                },
                {
                 "X": 0.5909831523895264,
                 "Y": 0.29099249839782715
                },
                {
                 "X": 0.5909801125526428,
                 "Y": 0.3003422021865845
                },
                {
                 "X": 0.4880354404449463,
                 "Y": 0.3002690076828003
                }
               ]
              },
              "Text": "7 Foreign tax paid"
             },
             "Type": "FOREIGN_TAX_PAID",
             "ValueDetections": [
              {
               "Confidence": 99.9547348022461,
               "Geometry": {
                "BoundingBox": {
                 "Height": 0.014416479505598545,
                 "Left": 0.488893985748291,
                 "Top": 0.31563347578048706,
                 "Width": 0.08651332557201385
                },
                "Polygon": [
                 {
                  "X": 0.48889726400375366,
                  "Y": 0.31563347578048706
                 },
                 {
                  "X": 0.5754073262214661,
                  "Y": 0.31569162011146545
                 },
                 {
                  "X": 0.5754028558731079,
                  "Y": 0.33004996180534363
                 },
                 {
                  "X": 0.488893985748291,
                  "Y": 0.32999491691589355
                 }
                ]
               },
               "Text": "$ 7000"
              }
             ]
            },
            {
             "KeyDetection": {
              "Confidence": 99.92448425292969,
              "Geometry": {
               "BoundingBox": {
                "Height": 0.00912606529891491,
                "Left": 0.6528078317642212,
                "Top": 0.291037917137146,
                "Width": 0.15686511993408203
               },
               "Polygon": [
                {
                 "X": 0.6528112292289734,
                 "Y": 0.291037917137146
                },
                {
                 "X": 0.8096728920936584,
                 "Y": 0.2911531627178192
                },
                {
                 "X": 0.8096681237220764,
                 "Y": 0.30016398429870605
                },
                {
                 "X": 0.6528078317642212,
                 "Y": 0.30005231499671936
                }
               ]
              },
              "Text": "8 Foreign country or U.S. possession"
             },
             "Type": "FOREIGN_COUNTRY_OR_US_POSSESSION",
             "ValueDetections": [
              {
               "Confidence": 99.29940795898438,
               "Geometry": {
                "BoundingBox": {
                 "Height": 0.009707530029118061,
                 "Left": 0.6878122687339783,
                 "Top": 0.31009215116500854,
                 "Width": 0.04019573703408241
                },
                "Polygon": [
                 {
                  "X": 0.687816321849823,
                  "Y": 0.31009215116500854
                 },
                 {
                  "X": 0.7280080318450928,
                  "Y": 0.31011974811553955
                 },
                 {
                  "X": 0.7280036211013794,
                  "Y": 0.3197996914386749
                 },
                 {
                  "X": 0.6878122687339783,
                  "Y": 0.3197730779647827
                 }
                ]
               },
               "Text": "$ 1000"
              }
             ]
            },
            {
             "KeyDetection": {
              "Confidence": 99.97518157958984,
              "Geometry": {
               "BoundingBox": {
                "Height": 0.009926036931574345,
                "Left": 0.08829686790704727,
                "Top": 0.3193760812282562,
                "Width": 0.3616577684879303
               },
               "Polygon": [
                {
                 "X": 0.08829686790704727,
                 "Y": 0.3193760812282562
                },
                {
                 "X": 0.44995465874671936,
                 "Y": 0.31961557269096375
                },
                {
                 "X": 0.4499528110027313,
                 "Y": 0.3293021321296692
                },
                {
                 "X": 0.08829835057258606,
                 "Y": 0.3290714919567108
                }
               ]
              },
              "Text": "City or town, state or province, country, and ZIP or foreign postal code"
             },
             "Type": "ADDRESS_CITY_OR_TOWN,_STATE_OR_PROVINCE,_COUNTRY,_AND_ZIP_OR_FOREIGN_POSTAL_CODE",
             "ValueDetections": [
              {
               "Confidence": 99.99502563476562,
               "Geometry": {
                "BoundingBox": {
                 "Height": 0.012765948660671711,
                 "Left": 0.19534829258918762,
                 "Top": 0.3448483645915985,
                 "Width": 0.11608342826366425
                },
                "Polygon": [
                 {
                  "X": 0.19534829258918762,
                  "Y": 0.3448483645915985
                 },
                 {
                  "X": 0.31143173575401306,
                  "Y": 0.34491780400276184
                 },
                 {
                  "X": 0.311430960893631,
                  "Y": 0.35761430859565735
                 },
                 {
                  "X": 0.19534894824028015,
                  "Y": 0.3575485944747925
                 }
                ]
               },
               "Text": "Any Town, USA"
              }
             ]
            },
            {
             "KeyDetection": {
              "Confidence": 99.94682312011719,
              "Geometry": {
               "BoundingBox": {
                "Height": 0.008777291513979435,
                "Left": 0.4880253076553345,
                "Top": 0.3363400399684906,
                "Width": 0.15698739886283875
               },
               "Polygon": [
                {
                 "X": 0.48802727460861206,
                 "Y": 0.3363400399684906
                },
                {
                 "X": 0.6450127363204956,
                 "Y": 0.3364373743534088
                },
                {
                 "X": 0.645009458065033,
                 "Y": 0.34511733055114746
                },
                {
                 "X": 0.4880253076553345,
                 "Y": 0.34502342343330383
                }
               ]
              },
              "Text": "9 Cash liquidation distributions"
             },
             "Type": "CASH_LIQUIDATION_DISTRIBUTIONS",
             "ValueDetections": [
              {
               "Confidence": 99.94503021240234,
               "Geometry": {
                "BoundingBox": {
                 "Height": 0.01073387823998928,
                 "Left": 0.48888710141181946,
                 "Top": 0.34969955682754517,
                 "Width": 0.08391503244638443
                },
                "Polygon": [
                 {
                  "X": 0.48888951539993286,
                  "Y": 0.34969955682754517
                 },
                 {
                  "X": 0.5728021264076233,
                  "Y": 0.34974873065948486
                 },
                 {
                  "X": 0.5727988481521606,
                  "Y": 0.360433429479599
                 },
                 {
                  "X": 0.48888710141181946,
                  "Y": 0.3603864908218384
                 }
                ]
               },
               "Text": "$ 800"
              }
             ]
            },
            {
             "KeyDetection": {
              "Confidence": 99.98590087890625,
              "Geometry": {
               "BoundingBox": {
                "Height": 0.009108077734708786,
                "Left": 0.6536552309989929,
                "Top": 0.3357750475406647,
                "Width": 0.15772166848182678
               },
               "Polygon": [
                {
                 "X": 0.6536586880683899,
                 "Y": 0.3357750475406647
                },
                {
                 "X": 0.8113769292831421,
                 "Y": 0.3358730971813202
                },
                {
                 "X": 0.8113721013069153,
                 "Y": 0.34488311409950256
                },
                {
                 "X": 0.6536552309989929,
                 "Y": 0.34478864073753357
                }
               ]
              },
              "Text": "10 Noncash liquidation distributions"
             },
             "Type": "NONCASH_LIQUIDATION_DISTRIBUTIONS",
             "ValueDetections": [
              {
               "Confidence": 99.95600891113281,
               "Geometry": {
                "BoundingBox": {
                 "Height": 0.010391524992883205,
                 "Left": 0.6536493301391602,
                 "Top": 0.3497961461544037,
                 "Width": 0.07650117576122284
                },
                "Polygon": [
                 {
                  "X": 0.6536533236503601,
                  "Y": 0.3497961461544037
                 },
                 {
                  "X": 0.7301505208015442,
                  "Y": 0.34984099864959717
                 },
                 {
                  "X": 0.7301458120346069,
                  "Y": 0.36018767952919006
                 },
                 {
                  "X": 0.6536493301391602,
                  "Y": 0.36014482378959656
                 }
                ]
               },
               "Text": "$ 8000"
              }
             ]
            },
            {
             "KeyDetection": {
              "Confidence": 99.9652099609375,
              "Geometry": {
               "BoundingBox": {
                "Height": 0.020072344690561295,
                "Left": 0.4148900508880615,
                "Top": 0.3663575351238251,
                "Width": 0.06361241638660431
               },
               "Polygon": [
                {
                 "X": 0.4148932099342346,
                 "Y": 0.3663575351238251
                },
                {
                 "X": 0.478502482175827,
                 "Y": 0.3663921356201172
                },
                {
                 "X": 0.4784981310367584,
                 "Y": 0.38642987608909607
                },
                {
                 "X": 0.4148900508880615,
                 "Y": 0.3863984942436218
                }
               ]
              },
              "Text": "FATCA filing requirement"
             },
             "Type": "OTHER",
             "ValueDetections": [
              {
               "Confidence": 95.458984375,
               "Geometry": {
                "BoundingBox": {
                 "Height": 0.012238082475960255,
                 "Left": 0.4389609694480896,
                 "Top": 0.3909550607204437,
                 "Width": 0.016138115897774696
                },
                "Polygon": [
                 {
                  "X": 0.4389631748199463,
                  "Y": 0.3909550607204437
                 },
                 {
                  "X": 0.45509910583496094,
                  "Y": 0.3909628689289093
                 },
                 {
                  "X": 0.4550967216491699,
                  "Y": 0.4031931459903717
                 },
                 {
                  "X": 0.4389609694480896,
                  "Y": 0.4031858742237091
                 }
                ]
               },
               "SelectionStatus": "SELECTED"
              }
             ]
            },
            {
             "KeyDetection": {
              "Confidence": 99.96918487548828,
              "Geometry": {
               "BoundingBox": {
                "Height": 0.009096525609493256,
                "Left": 0.4888835847377777,
                "Top": 0.36673176288604736,
                "Width": 0.15309171378612518
               },
               "Polygon": [
                {
                 "X": 0.48888564109802246,
                 "Y": 0.36673176288604736
                },
                {
                 "X": 0.6419752836227417,
                 "Y": 0.3668149411678314
                },
                {
                 "X": 0.6419719457626343,
                 "Y": 0.3758282959461212
                },
                {
                 "X": 0.4888835847377777,
                 "Y": 0.37574857473373413
                }
               ]
              },
              "Text": "11 Exempt-interest dividends"
             },
             "Type": "OTHER",
             "ValueDetections": [
              {
               "Confidence": 99.91970825195312,
               "Geometry": {
                "BoundingBox": {
                 "Height": 0.014065057970583439,
                 "Left": 0.4893093705177307,
                 "Top": 0.3917783498764038,
                 "Width": 0.08910135179758072
                },
                "Polygon": [
                 {
                  "X": 0.4893125593662262,
                  "Y": 0.3917783498764038
                 },
                 {
                  "X": 0.5784107446670532,
                  "Y": 0.39182111620903015
                 },
                 {
                  "X": 0.5784063339233398,
                  "Y": 0.4058434069156647
                 },
                 {
                  "X": 0.4893093705177307,
                  "Y": 0.40580376982688904
                 }
                ]
               },
               "Text": "$ 1000"
              }
             ]
            },
            {
             "KeyDetection": {
              "Confidence": 99.98473358154297,
              "Geometry": {
               "BoundingBox": {
                "Height": 0.01843167468905449,
                "Left": 0.6536398530006409,
                "Top": 0.36648744344711304,
                "Width": 0.144330695271492
               },
               "Polygon": [
                {
                 "X": 0.6536468863487244,
                 "Y": 0.36648744344711304
                },
                {
                 "X": 0.7979705929756165,
                 "Y": 0.366566002368927
                },
                {
                 "X": 0.7979609966278076,
                 "Y": 0.384919136762619
                },
                {
                 "X": 0.6536398530006409,
                 "Y": 0.3848472833633423
                }
               ]
              },
              "Text": "12 Specified private activity bond interest dividends"
             },
             "Type": "OTHER",
             "ValueDetections": [
              {
               "Confidence": 99.95262908935547,
               "Geometry": {
                "BoundingBox": {
                 "Height": 0.010711177252233028,
                 "Left": 0.6536318063735962,
                 "Top": 0.39519527554512024,
                 "Width": 0.066559799015522
                },
                "Polygon": [
                 {
                  "X": 0.6536359190940857,
                  "Y": 0.39519527554512024
                 },
                 {
                  "X": 0.7201915979385376,
                  "Y": 0.3952266573905945
                 },
                 {
                  "X": 0.7201868295669556,
                  "Y": 0.40590643882751465
                 },
                 {
                  "X": 0.6536318063735962,
                  "Y": 0.40587684512138367
                 }
                ]
               },
               "Text": "$ 900"
              }
             ]
            },
            {
             "KeyDetection": {
              "Confidence": 99.93347930908203,
              "Geometry": {
               "BoundingBox": {
                "Height": 0.009431149810552597,
                "Left": 0.08787728101015091,
                "Top": 0.41063931584358215,
                "Width": 0.17548246681690216
               },
               "Polygon": [
                {
                 "X": 0.08787728101015091,
                 "Y": 0.41063931584358215
                },
                {
                 "X": 0.26335975527763367,
                 "Y": 0.41071513295173645
                },
                {
                 "X": 0.26335960626602173,
                 "Y": 0.42007046937942505
                },
                {
                 "X": 0.08787871152162552,
                 "Y": 0.41999876499176025
                }
               ]
              },
              "Text": "Account number (see instructions)"
             },
             "Type": "ACCOUNT_NUMBER",
             "ValueDetections": [
              {
               "Confidence": 99.96804809570312,
               "Geometry": {
                "BoundingBox": {
                 "Height": 0.008721601217985153,
                 "Left": 0.21094878017902374,
                 "Top": 0.4347518980503082,
                 "Width": 0.09658073633909225
                },
                "Polygon": [
                 {
                  "X": 0.21094878017902374,
                  "Y": 0.4347518980503082
                 },
                 {
                  "X": 0.3075295090675354,
                  "Y": 0.4347877502441406
                 },
                 {
                  "X": 0.3075290322303772,
                  "Y": 0.4434734880924225
                 },
                 {
                  "X": 0.2109490931034088,
                  "Y": 0.4434397220611572
                 }
                ]
               },
               "Text": "7777-8888-9999"
              }
             ]
            },
            {
             "KeyDetection": {
              "Confidence": 99.88473510742188,
              "Geometry": {
               "BoundingBox": {
                "Height": 0.007707646116614342,
                "Left": 0.4148848056793213,
                "Top": 0.4121165871620178,
                "Width": 0.06317508965730667
               },
               "Polygon": [
                {
                 "X": 0.4148860275745392,
                 "Y": 0.4121165871620178
                },
                {
                 "X": 0.47805988788604736,
                 "Y": 0.41214367747306824
                },
                {
                 "X": 0.47805821895599365,
                 "Y": 0.4198242127895355
                },
                {
                 "X": 0.4148848056793213,
                 "Y": 0.4197983741760254
                }
               ]
              },
              "Text": "2nd TIN not."
             },
             "Type": "2ND_TIN_NOT",
             "ValueDetections": [
              {
               "Confidence": 93.701171875,
               "Geometry": {
                "BoundingBox": {
                 "Height": 0.012235894799232483,
                 "Left": 0.43895483016967773,
                 "Top": 0.42520061135292053,
                 "Width": 0.016137592494487762
                },
                "Polygon": [
                 {
                  "X": 0.43895700573921204,
                  "Y": 0.42520061135292053
                 },
                 {
                  "X": 0.4550924003124237,
                  "Y": 0.4252069890499115
                 },
                 {
                  "X": 0.4550900161266327,
                  "Y": 0.4374364912509918
                 },
                 {
                  "X": 0.43895483016967773,
                  "Y": 0.43743062019348145
                 }
                ]
               },
               "SelectionStatus": "NOT_SELECTED"
              }
             ]
            },
            {
             "KeyDetection": {
              "Confidence": 99.94952392578125,
              "Geometry": {
               "BoundingBox": {
                "Height": 0.007699120789766312,
                "Left": 0.48887357115745544,
                "Top": 0.41214829683303833,
                "Width": 0.04585259407758713
               },
               "Polygon": [
                {
                 "X": 0.4888753294944763,
                 "Y": 0.41214829683303833
                },
                {
                 "X": 0.5347261428833008,
                 "Y": 0.4121679663658142
                },
                {
                 "X": 0.5347241163253784,
                 "Y": 0.41984742879867554
                },
                {
                 "X": 0.48887357115745544,
                 "Y": 0.4198286533355713
                }
               ]
              },
              "Text": "13 State"
             },
             "Type": "OTHER",
             "ValueDetections": [
              {
               "Confidence": 99.96505737304688,
               "Geometry": {
                "BoundingBox": {
                 "Height": 0.008364275097846985,
                 "Left": 0.49103304743766785,
                 "Top": 0.4268419146537781,
                 "Width": 0.0441216379404068
                },
                "Polygon": [
                 {
                  "X": 0.49103495478630066,
                  "Y": 0.4268419146537781
                 },
                 {
                  "X": 0.5351547002792358,
                  "Y": 0.42685917019844055
                 },
                 {
                  "X": 0.5351524353027344,
                  "Y": 0.43520617485046387
                 },
                 {
                  "X": 0.49103304743766785,
                  "Y": 0.435189813375473
                 }
                ]
               },
               "Text": "Any Town"
              }
             ]
            },
            {
             "KeyDetection": {
              "Confidence": 99.93606567382812,
              "Geometry": {
               "BoundingBox": {
                "Height": 0.007719395682215691,
                "Left": 0.5472662448883057,
                "Top": 0.412173330783844,
                "Width": 0.09815029054880142
               },
               "Polygon": [
                {
                 "X": 0.5472683906555176,
                 "Y": 0.412173330783844
                },
                {
                 "X": 0.6454165577888489,
                 "Y": 0.4122154116630554
                },
                {
                 "X": 0.6454136371612549,
                 "Y": 0.41989272832870483
                },
                {
                 "X": 0.5472662448883057,
                 "Y": 0.4198525547981262
                }
               ]
              },
              "Text": "14 State identification no."
             },
             "Type": "OTHER",
             "ValueDetections": [
              {
               "Confidence": 99.98843383789062,
               "Geometry": {
                "BoundingBox": {
                 "Height": 0.007037618663161993,
                 "Left": 0.569316565990448,
                 "Top": 0.42820796370506287,
                 "Width": 0.0722036063671112
                },
                "Polygon": [
                 {
                  "X": 0.5693187117576599,
                  "Y": 0.42820796370506287
                 },
                 {
                  "X": 0.6415202021598816,
                  "Y": 0.4282360076904297
                 },
                 {
                  "X": 0.6415175795555115,
                  "Y": 0.4352456033229828
                 },
                 {
                  "X": 0.569316565990448,
                  "Y": 0.43521884083747864
                 }
                ]
               },
               "Text": "7777-8888-9999"
              }
             ]
            },
            {
             "KeyDetection": {
              "Confidence": 99.97981262207031,
              "Geometry": {
               "BoundingBox": {
                "Height": 0.008056232705712318,
                "Left": 0.6536264419555664,
                "Top": 0.411885142326355,
                "Width": 0.11062706261873245
               },
               "Polygon": [
                {
                 "X": 0.65362948179245,
                 "Y": 0.411885142326355
                },
                {
                 "X": 0.7642534971237183,
                 "Y": 0.41193264722824097
                },
                {
                 "X": 0.7642495632171631,
                 "Y": 0.41994136571884155
                },
                {
                 "X": 0.6536264419555664,
                 "Y": 0.41989609599113464
                }
               ]
              },
              "Text": "15 State tax withheld"
             },
             "Type": "OTHER",
             "ValueDetections": [
              {
               "Confidence": 99.9261703491211,
               "Geometry": {
                "BoundingBox": {
                 "Height": 0.026388250291347504,
                 "Left": 0.6536141633987427,
                 "Top": 0.42557042837142944,
                 "Width": 0.06094658747315407
                },
                "Polygon": [
                 {
                  "X": 0.6536242365837097,
                  "Y": 0.42557042837142944
                 },
                 {
                  "X": 0.7145607471466064,
                  "Y": 0.4255945086479187
                 },
                 {
                  "X": 0.7145491242408752,
                  "Y": 0.45195868611335754
                 },
                 {
                  "X": 0.6536141633987427,
                  "Y": 0.4519386887550354
                 }
                ]
               },
               "Text": "$ 8000 $ 6000"
              }
             ]
            },
            {
             "KeyDetection": {
              "Confidence": 99.93336486816406,
              "Geometry": {
               "BoundingBox": {
                "Height": 0.00802959967404604,
                "Left": 0.08224954456090927,
                "Top": 0.45877018570899963,
                "Width": 0.02687465213239193
               },
               "Polygon": [
                {
                 "X": 0.08224954456090927,
                 "Y": 0.45877018570899963
                },
                {
                 "X": 0.10912313312292099,
                 "Y": 0.4587785303592682
                },
                {
                 "X": 0.10912419110536575,
                 "Y": 0.466799795627594
                },
                {
                 "X": 0.08225081115961075,
                 "Y": 0.4667919874191284
                }
               ]
              },
              "Text": "Form"
             },
             "Type": "FORM",
             "ValueDetections": [
              {
               "Confidence": 99.96198272705078,
               "Geometry": {
                "BoundingBox": {
                 "Height": 0.010046952404081821,
                 "Left": 0.11259011924266815,
                 "Top": 0.4564400911331177,
                 "Width": 0.07020045816898346
                },
                "Polygon": [
                 {
                  "X": 0.11259011924266815,
                  "Y": 0.4564400911331177
                 },
                 {
                  "X": 0.18278995156288147,
                  "Y": 0.4564623236656189
                 },
                 {
                  "X": 0.1827905774116516,
                  "Y": 0.4664870500564575
                 },
                 {
                  "X": 0.11259141564369202,
                  "Y": 0.4664665758609772
                 }
                ]
               },
               "Text": "1099-DIV"
              }
             ]
            }
           ],
           "SignatureDetections": []
          }
         }
        ],
        "Page": 4,
        "PageClassification": {
         "PageNumber": [
          {
           "Confidence": 100,
           "Value": "undetected"
          }
         ],
         "PageType": [
          {
           "Confidence": 99.99998474121094,
           "Value": "1099_DIV"
          }
         ]
        }
       },
       {
        "Extractions": [
         {
          "LendingDocument": {
           "LendingFields": [
            {
             "Type": "BORROWER_NAME",
             "ValueDetections": [
              {
               "Confidence": 100,
               "Geometry": {
                "BoundingBox": {
                 "Height": 0.0072311535477638245,
                 "Left": 0.10196234285831451,
                 "Top": 0.24421538412570953,
                 "Width": 0.0551753044128418
                },
                "Polygon": [
                 {
                  "X": 0.10196234285831451,
                  "Y": 0.24428445100784302
                 },
                 {
                  "X": 0.15713092684745789,
                  "Y": 0.24421538412570953
                 },
                 {
                  "X": 0.1571376472711563,
                  "Y": 0.2513774633407593
                 },
                 {
                  "X": 0.1019689291715622,
                  "Y": 0.25144654512405396
                 }
                ]
               },
               "Text": "Jane Doe"
              }
             ]
            },
            {
             "Type": "BORROWER_ADDRESS",
             "ValueDetections": [
              {
               "Confidence": 89,
               "Geometry": {
                "BoundingBox": {
                 "Height": 0.019912509247660637,
                 "Left": 0.10252023488283157,
                 "Top": 0.25681182742118835,
                 "Width": 0.1851538121700287
                },
                "Polygon": [
                 {
                  "X": 0.10252023488283157,
                  "Y": 0.25704362988471985
                 },
                 {
                  "X": 0.2876547574996948,
                  "Y": 0.25681182742118835
                 },
                 {
                  "X": 0.28767403960227966,
                  "Y": 0.27649250626564026
                 },
                 {
                  "X": 0.1025383397936821,
                  "Y": 0.27672433853149414
                 }
                ]
               },
               "Text": "100 Main Street, Anytown, USA 555-0100"
              }
             ]
            },
            {
             "Type": "BANK_NAME",
             "ValueDetections": []
            },
            {
             "Type": "ACCOUNT_NUMBER",
             "ValueDetections": [
              {
               "Confidence": 98,
               "Geometry": {
                "BoundingBox": {
                 "Height": 0.00914708711206913,
                 "Left": 0.6376153230667114,
                 "Top": 0.25756722688674927,
                 "Width": 0.11241224408149719
                },
                "Polygon": [
                 {
                  "X": 0.6376153230667114,
                  "Y": 0.25770795345306396
                 },
                 {
                  "X": 0.7500173449516296,
                  "Y": 0.25756722688674927
                 },
                 {
                  "X": 0.7500275373458862,
                  "Y": 0.26657357811927795
                 },
                 {
                  "X": 0.6376251578330994,
                  "Y": 0.26671430468559265
                 }
                ]
               },
               "Text": "333 008755555"
              }
             ]
            },
            {
             "Type": "ACCOUNT_TYPE",
             "ValueDetections": []
            },
            {
             "Type": "PERIOD_START_DATE",
             "ValueDetections": [
              {
               "Confidence": 99,
               "Geometry": {
                "BoundingBox": {
                 "Height": 0.009450391866266727,
                 "Left": 0.6380704045295715,
                 "Top": 0.24191918969154358,
                 "Width": 0.08832596242427826
                },
                "Polygon": [
                 {
                  "X": 0.6380704045295715,
                  "Y": 0.24202975630760193
                 },
                 {
                  "X": 0.7263858914375305,
                  "Y": 0.24191918969154358
                 },
                 {
                  "X": 0.726396381855011,
                  "Y": 0.2512590289115906
                 },
                 {
                  "X": 0.6380806565284729,
                  "Y": 0.2513695955276489
                 }
                ]
               },
               "Text": "1 MAY 2021"
              }
             ]
            },
            {
             "Type": "PERIOD_END_DATE",
             "ValueDetections": [
              {
               "Confidence": 99,
               "Geometry": {
                "BoundingBox": {
                 "Height": 0.009462796151638031,
                 "Left": 0.7514164447784424,
                 "Top": 0.2417648881673813,
                 "Width": 0.09824389219284058
                },
                "Polygon": [
                 {
                  "X": 0.7514164447784424,
                  "Y": 0.24188785254955292
                 },
                 {
                  "X": 0.8496494293212891,
                  "Y": 0.2417648881673813
                 },
                 {
                  "X": 0.849660336971283,
                  "Y": 0.2511047124862671
                 },
                 {
                  "X": 0.7514269948005676,
                  "Y": 0.2512276768684387
                 }
                ]
               },
               "Text": "31 MAY 2021"
              }
             ]
            },
            {
             "Type": "BANK_CONTACT_NUMBER",
             "ValueDetections": []
            },
            {
             "Type": "BANK_ADDRESS",
             "ValueDetections": []
            },
            {
             "Type": "BEGINNING_BALANCE",
             "ValueDetections": [
              {
               "Confidence": 99,
               "Geometry": {
                "BoundingBox": {
                 "Height": 0.011778759770095348,
                 "Left": 0.5059660077095032,
                 "Top": 0.3685186505317688,
                 "Width": 0.08219209313392639
                },
                "Polygon": [
                 {
                  "X": 0.5059660077095032,
                  "Y": 0.3686216175556183
                 },
                 {
                  "X": 0.5881454944610596,
                  "Y": 0.3685186505317688
                 },
                 {
                  "X": 0.588158130645752,
                  "Y": 0.38019439578056335
                 },
                 {
                  "X": 0.5059782862663269,
                  "Y": 0.38029739260673523
                 }
                ]
               },
               "Text": "$50,000.00"
              }
             ]
            },
            {
             "Type": "TOTAL_DEPOSIT",
             "ValueDetections": []
            },
            {
             "Type": "TOTAL_WITHDRAWAL",
             "ValueDetections": []
            },
            {
             "Type": "ENDING_BALANCE",
             "ValueDetections": [
              {
               "Confidence": 93,
               "Geometry": {
                "BoundingBox": {
                 "Height": 0.01179073378443718,
                 "Left": 0.5055105686187744,
                 "Top": 0.38451990485191345,
                 "Width": 0.09163852035999298
                },
                "Polygon": [
                 {
                  "X": 0.5055105686187744,
                  "Y": 0.38463473320007324
                 },
                 {
                  "X": 0.5971364378929138,
                  "Y": 0.38451990485191345
                 },
                 {
                  "X": 0.5971490740776062,
                  "Y": 0.39619579911231995
                 },
                 {
                  "X": 0.5055228471755981,
                  "Y": 0.39631062746047974
                 }
                ]
               },
               "Text": "$123,084.85"
              }
             ]
            },
            {
             "Type": "AVERAGE_BALANCE",
             "ValueDetections": []
            }
           ],
           "SignatureDetections": []
          }
         }
        ],
        "Page": 5,
        "PageClassification": {
         "PageNumber": [
          {
           "Confidence": 100,
           "Value": "undetected"
          }
         ],
         "PageType": [
          {
           "Confidence": 97.54032135009766,
           "Value": "BANK_STATEMENT"
          }
         ]
        }
       },
       {
        "Extractions": [
         {
          "LendingDocument": {
           "LendingFields": [
            {
             "Type": "FORM_YEAR",
             "ValueDetections": [
              {
               "Confidence": 100,
               "Geometry": {
                "BoundingBox": {
                 "Height": 0.02492646872997284,
                 "Left": 0.47555673122406006,
                 "Top": 0.428293377161026,
                 "Width": 0.10604754835367203
                },
                "Polygon": [
                 {
                  "X": 0.4755581021308899,
                  "Y": 0.428293377161026
                 },
                 {
                  "X": 0.5816042423248291,
                  "Y": 0.4283423125743866
                 },
                 {
                  "X": 0.5816012620925903,
                  "Y": 0.45321983098983765
                 },
                 {
                  "X": 0.47555673122406006,
                  "Y": 0.45317667722702026
                 }
                ]
               },
               "Text": "2022"
              }
             ]
            },
            {
             "Type": "EMPLOYEE_SSN",
             "ValueDetections": [
              {
               "Confidence": 98,
               "Geometry": {
                "BoundingBox": {
                 "Height": 0.009286358952522278,
                 "Left": 0.30066683888435364,
                 "Top": 0.061937227845191956,
                 "Width": 0.08917063474655151
                },
                "Polygon": [
                 {
                  "X": 0.30066683888435364,
                  "Y": 0.061937227845191956
                 },
                 {
                  "X": 0.38983747363090515,
                  "Y": 0.06205010041594505
                 },
                 {
                  "X": 0.38983747363090515,
                  "Y": 0.07122358679771423
                 },
                 {
                  "X": 0.30066734552383423,
                  "Y": 0.0711125060915947
                 }
                ]
               },
               "Text": "75395184613"
              }
             ]
            },
            {
             "Type": "EMPLOYER_EIN",
             "ValueDetections": [
              {
               "Confidence": 98,
               "Geometry": {
                "BoundingBox": {
                 "Height": 0.009273718111217022,
                 "Left": 0.23440589010715485,
                 "Top": 0.09069379419088364,
                 "Width": 0.08240081369876862
                },
                "Polygon": [
                 {
                  "X": 0.23440589010715485,
                  "Y": 0.09069379419088364
                 },
                 {
                  "X": 0.3168063163757324,
                  "Y": 0.09079287946224213
                 },
                 {
                  "X": 0.31680670380592346,
                  "Y": 0.09996750950813293
                 },
                 {
                  "X": 0.2344067394733429,
                  "Y": 0.09987008571624756
                 }
                ]
               },
               "Text": "4963147952"
              }
             ]
            },
            {
             "Type": "EMPLOYER_NAME",
             "ValueDetections": [
              {
               "Confidence": 100,
               "Geometry": {
                "BoundingBox": {
                 "Height": 0.010576951317489147,
                 "Left": 0.13838142156600952,
                 "Top": 0.125979483127594,
                 "Width": 0.07988541573286057
                },
                "Polygon": [
                 {
                  "X": 0.13838142156600952,
                  "Y": 0.125979483127594
                 },
                 {
                  "X": 0.21826575696468353,
                  "Y": 0.1260693371295929
                 },
                 {
                  "X": 0.21826684474945068,
                  "Y": 0.13655643165111542
                 },
                 {
                  "X": 0.13838303089141846,
                  "Y": 0.13646841049194336
                 }
                ]
               },
               "Text": "John Stiles"
              }
             ]
            },
            {
             "Type": "EMPLOYER_ADDRESS",
             "ValueDetections": [
              {
               "Confidence": 94,
               "Geometry": {
                "BoundingBox": {
                 "Height": 0.013353373855352402,
                 "Left": 0.1417836993932724,
                 "Top": 0.14171653985977173,
                 "Width": 0.2285250723361969
                },
                "Polygon": [
                 {
                  "X": 0.1417836993932724,
                  "Y": 0.14171653985977173
                 },
                 {
                  "X": 0.37030863761901855,
                  "Y": 0.14196568727493286
                 },
                 {
                  "X": 0.3703087568283081,
                  "Y": 0.15506991744041443
                 },
                 {
                  "X": 0.14178566634655,
                  "Y": 0.15482734143733978
                 }
                ]
               },
               "Text": "100 Main Street, Anytown, USA"
              }
             ]
            },
            {
             "Type": "EMPLOYEE_NAME",
             "ValueDetections": [
              {
               "Confidence": 100,
               "Geometry": {
                "BoundingBox": {
                 "Height": 0.00855422392487526,
                 "Left": 0.10100097954273224,
                 "Top": 0.2504950165748596,
                 "Width": 0.03910054638981819
                },
                "Polygon": [
                 {
                  "X": 0.10100097954273224,
                  "Y": 0.2504950165748596
                 },
                 {
                  "X": 0.14010024070739746,
                  "Y": 0.2505283057689667
                 },
                 {
                  "X": 0.14010152220726013,
                  "Y": 0.2590492367744446
                 },
                 {
                  "X": 0.10100247710943222,
                  "Y": 0.2590166926383972
                 }
                ]
               },
               "Text": "Arnav"
              }
             ]
            },
            {
             "Type": "EMPLOYEE_ADDRESS",
             "ValueDetections": [
              {
               "Confidence": 96,
               "Geometry": {
                "BoundingBox": {
                 "Height": 0.0119400005787611,
                 "Left": 0.1401100605726242,
                 "Top": 0.31541624665260315,
                 "Width": 0.20897410809993744
                },
                "Polygon": [
                 {
                  "X": 0.1401100605726242,
                  "Y": 0.31541624665260315
                 },
                 {
                  "X": 0.34908390045166016,
                  "Y": 0.31556442379951477
                 },
                 {
                  "X": 0.34908416867256165,
                  "Y": 0.3273562490940094
                 },
                 {
                  "X": 0.14011184871196747,
                  "Y": 0.32721349596977234
                 }
                ]
               },
               "Text": "123 Any Street, Any Town, USA"
              }
             ]
            },
            {
             "Type": "WAGES",
             "ValueDetections": [
              {
               "Confidence": 99,
               "Geometry": {
                "BoundingBox": {
                 "Height": 0.010541674681007862,
                 "Left": 0.6011545062065125,
                 "Top": 0.09178973734378815,
                 "Width": 0.053436409682035446
                },
                "Polygon": [
                 {
                  "X": 0.6011558771133423,
                  "Y": 0.09178973734378815
                 },
                 {
                  "X": 0.654590904712677,
                  "Y": 0.09185391664505005
                 },
                 {
                  "X": 0.6545891761779785,
                  "Y": 0.10233141481876373
                 },
                 {
                  "X": 0.6011545062065125,
                  "Y": 0.10226846486330032
                 }
                ]
               },
               "Text": "$100.00"
              }
             ]
            },
            {
             "Type": "FEDERAL_INCOME_TAX_WITHHELD_AMOUNT",
             "ValueDetections": [
              {
               "Confidence": 99,
               "Geometry": {
                "BoundingBox": {
                 "Height": 0.01053731981664896,
                 "Left": 0.7953255772590637,
                 "Top": 0.09071366488933563,
                 "Width": 0.05339211970567703
                },
                "Polygon": [
                 {
                  "X": 0.7953281998634338,
                  "Y": 0.09071366488933563
                 },
                 {
                  "X": 0.8487176895141602,
                  "Y": 0.0907779410481453
                 },
                 {
                  "X": 0.8487147092819214,
                  "Y": 0.10125098377466202
                 },
                 {
                  "X": 0.7953255772590637,
                  "Y": 0.10118793696165085
                 }
                ]
               },
               "Text": "$500.00"
              }
             ]
            },
            {
             "Type": "SOCIAL_SECURITY_WAGES_AMOUNT",
             "ValueDetections": [
              {
               "Confidence": 99,
               "Geometry": {
                "BoundingBox": {
                 "Height": 0.010546763427555561,
                 "Left": 0.586729884147644,
                 "Top": 0.12058950215578079,
                 "Width": 0.06107165664434433
                },
                "Polygon": [
                 {
                  "X": 0.5867311954498291,
                  "Y": 0.12058950215578079
                 },
                 {
                  "X": 0.6478015780448914,
                  "Y": 0.1206589862704277
                 },
                 {
                  "X": 0.6477998495101929,
                  "Y": 0.13113626837730408
                 },
                 {
                  "X": 0.586729884147644,
                  "Y": 0.13106819987297058
                 }
                ]
               },
               "Text": "$1000.00"
              }
             ]
            },
            {
             "Type": "SOCIAL_SECURITY_TAXES_WITHHELD_AMOUNT",
             "ValueDetections": [
              {
               "Confidence": 99,
               "Geometry": {
                "BoundingBox": {
                 "Height": 0.010533147491514683,
                 "Left": 0.7987077832221985,
                 "Top": 0.12213991582393646,
                 "Width": 0.05339031666517258
                },
                "Polygon": [
                 {
                  "X": 0.7987104058265686,
                  "Y": 0.12213991582393646
                 },
                 {
                  "X": 0.8520980477333069,
                  "Y": 0.12220051139593124
                 },
                 {
                  "X": 0.8520950675010681,
                  "Y": 0.13267306983470917
                 },
                 {
                  "X": 0.7987077832221985,
                  "Y": 0.13261370360851288
                 }
                ]
               },
               "Text": "$100.00"
              }
             ]
            },
            {
             "Type": "MEDICARE_WAGES_AMOUNT",
             "ValueDetections": [
              {
               "Confidence": 99,
               "Geometry": {
                "BoundingBox": {
                 "Height": 0.010533901862800121,
                 "Left": 0.5977535247802734,
                 "Top": 0.15203694999217987,
                 "Width": 0.05343520641326904
                },
                "Polygon": [
                 {
                  "X": 0.5977548956871033,
                  "Y": 0.15203694999217987
                 },
                 {
                  "X": 0.6511887311935425,
                  "Y": 0.1520940512418747
                 },
                 {
                  "X": 0.6511870622634888,
                  "Y": 0.16257084906101227
                 },
                 {
                  "X": 0.5977535247802734,
                  "Y": 0.16251496970653534
                 }
                ]
               },
               "Text": "$500.00"
              }
             ]
            },
            {
             "Type": "MEDICARE_TAX_WITHHELD_AMOUNT",
             "ValueDetections": [
              {
               "Confidence": 98,
               "Geometry": {
                "BoundingBox": {
                 "Height": 0.010537393391132355,
                 "Left": 0.7944627404212952,
                 "Top": 0.15159256756305695,
                 "Width": 0.061016105115413666
                },
                "Polygon": [
                 {
                  "X": 0.7944653630256653,
                  "Y": 0.15159256756305695
                 },
                 {
                  "X": 0.855478823184967,
                  "Y": 0.1516578644514084
                 },
                 {
                  "X": 0.8554758429527283,
                  "Y": 0.1621299684047699
                 },
                 {
                  "X": 0.7944627404212952,
                  "Y": 0.16206607222557068
                 }
                ]
               },
               "Text": "$5000.00"
              }
             ]
            },
            {
             "Type": "SOCIAL_SECURITY_TIP_AMOUNT",
             "ValueDetections": [
              {
               "Confidence": 99,
               "Geometry": {
                "BoundingBox": {
                 "Height": 0.010530179366469383,
                 "Left": 0.5926602482795715,
                 "Top": 0.18150094151496887,
                 "Width": 0.05343540012836456
                },
                "Polygon": [
                 {
                  "X": 0.5926615595817566,
                  "Y": 0.18150094151496887
                 },
                 {
                  "X": 0.6460956335067749,
                  "Y": 0.18155458569526672
                 },
                 {
                  "X": 0.6460939645767212,
                  "Y": 0.192031130194664
                 },
                 {
                  "X": 0.5926602482795715,
                  "Y": 0.19197870790958405
                 }
                ]
               },
               "Text": "$500.00"
              }
             ]
            },
            {
             "Type": "ALLOCATED_TIPS_AMOUNT",
             "ValueDetections": [
              {
               "Confidence": 99,
               "Geometry": {
                "BoundingBox": {
                 "Height": 0.011179977096617222,
                 "Left": 0.797845184803009,
                 "Top": 0.18105237185955048,
                 "Width": 0.05338874086737633
                },
                "Polygon": [
                 {
                  "X": 0.7978479862213135,
                  "Y": 0.18105237185955048
                 },
                 {
                  "X": 0.8512338995933533,
                  "Y": 0.18110604584217072
                 },
                 {
                  "X": 0.8512307405471802,
                  "Y": 0.19223234057426453
                 },
                 {
                  "X": 0.797845184803009,
                  "Y": 0.19217997789382935
                 }
                ]
               },
               "Text": "$150.00"
              }
             ]
            },
            {
             "Type": "DEPENDENT_CARE_BENEFITS_AMOUNT",
             "ValueDetections": [
              {
               "Confidence": 98,
               "Geometry": {
                "BoundingBox": {
                 "Height": 0.01118380855768919,
                 "Left": 0.7927524447441101,
                 "Top": 0.21181179583072662,
                 "Width": 0.06186172366142273
                },
                "Polygon": [
                 {
                  "X": 0.7927552461624146,
                  "Y": 0.21181179583072662
                 },
                 {
                  "X": 0.8546141982078552,
                  "Y": 0.21186980605125427
                 },
                 {
                  "X": 0.8546109795570374,
                  "Y": 0.2229956090450287
                 },
                 {
                  "X": 0.7927524447441101,
                  "Y": 0.2229391187429428
                 }
                ]
               },
               "Text": "$5000.00"
              }
             ]
            },
            {
             "Type": "EMPLOYER_STATE_ID_NUMBER",
             "ValueDetections": [
              {
               "Confidence": 98,
               "Geometry": {
                "BoundingBox": {
                 "Height": 0.009869709610939026,
                 "Left": 0.14777237176895142,
                 "Top": 0.40782734751701355,
                 "Width": 0.08241663873195648
                },
                "Polygon": [
                 {
                  "X": 0.14777237176895142,
                  "Y": 0.40782734751701355
                 },
                 {
                  "X": 0.23018807172775269,
                  "Y": 0.4078690707683563
                 },
                 {
                  "X": 0.2301890105009079,
                  "Y": 0.4176970422267914
                 },
                 {
                  "X": 0.14777381718158722,
                  "Y": 0.41765710711479187
                 }
                ]
               },
               "Text": "7414568313"
              }
             ]
            },
            {
             "Type": "STATE",
             "ValueDetections": [
              {
               "Confidence": 98,
               "Geometry": {
                "BoundingBox": {
                 "Height": 0.008269986137747765,
                 "Left": 0.0596633106470108,
                 "Top": 0.4100671410560608,
                 "Width": 0.04433109611272812
                },
                "Polygon": [
                 {
                  "X": 0.0596633106470108,
                  "Y": 0.4100671410560608
                 },
                 {
                  "X": 0.10399297624826431,
                  "Y": 0.4100893437862396
                 },
                 {
                  "X": 0.10399440675973892,
                  "Y": 0.4183371067047119
                 },
                 {
                  "X": 0.05966496840119362,
                  "Y": 0.41831570863723755
                 }
                ]
               },
               "Text": "Any Town"
              }
             ]
            },
            {
             "Type": "BENEFIT_STATE_WAGES_AMOUNT",
             "ValueDetections": [
              {
               "Confidence": 99,
               "Geometry": {
                "BoundingBox": {
                 "Height": 0.014439939521253109,
                 "Left": 0.3219147324562073,
                 "Top": 0.40595027804374695,
                 "Width": 0.059432897716760635
                },
                "Polygon": [
                 {
                  "X": 0.3219147324562073,
                  "Y": 0.40595027804374695
                 },
                 {
                  "X": 0.3813475966453552,
                  "Y": 0.4059806168079376
                 },
                 {
                  "X": 0.3813476264476776,
                  "Y": 0.42039021849632263
                 },
                 {
                  "X": 0.32191529870033264,
                  "Y": 0.4203617572784424
                 }
                ]
               },
               "Text": "$50.00"
              }
             ]
            },
            {
             "Type": "STATE_INCOME_TAX_AMOUNT",
             "ValueDetections": [
              {
               "Confidence": 99,
               "Geometry": {
                "BoundingBox": {
                 "Height": 0.014440743252635002,
                 "Left": 0.46282958984375,
                 "Top": 0.40602219104766846,
                 "Width": 0.07042575627565384
                },
                "Polygon": [
                 {
                  "X": 0.4628302752971649,
                  "Y": 0.40602219104766846
                 },
                 {
                  "X": 0.5332553386688232,
                  "Y": 0.4060581624507904
                 },
                 {
                  "X": 0.5332540273666382,
                  "Y": 0.4204629361629486
                 },
                 {
                  "X": 0.46282958984375,
                  "Y": 0.4204292297363281
                 }
                ]
               },
               "Text": "$500.00"
              }
             ]
            },
            {
             "Type": "LOCAL_WAGES_AMOUNT",
             "ValueDetections": [
              {
               "Confidence": 99,
               "Geometry": {
                "BoundingBox": {
                 "Height": 0.014437048695981503,
                 "Left": 0.5917831063270569,
                 "Top": 0.4060880243778229,
                 "Width": 0.07123488932847977
                },
                "Polygon": [
                 {
                  "X": 0.5917848944664001,
                  "Y": 0.4060880243778229
                 },
                 {
                  "X": 0.663017988204956,
                  "Y": 0.40612438321113586
                 },
                 {
                  "X": 0.6630155444145203,
                  "Y": 0.42052507400512695
                 },
                 {
                  "X": 0.5917831063270569,
                  "Y": 0.42049098014831543
                 }
                ]
               },
               "Text": "$100.00"
              }
             ]
            },
            {
             "Type": "LOCAL_INCOME_TAX_AMOUNT",
             "ValueDetections": [
              {
               "Confidence": 99,
               "Geometry": {
                "BoundingBox": {
                 "Height": 0.014432545751333237,
                 "Left": 0.7333780527114868,
                 "Top": 0.4061603248119354,
                 "Width": 0.07119183242321014
                },
                "Polygon": [
                 {
                  "X": 0.7333811521530151,
                  "Y": 0.4061603248119354
                 },
                 {
                  "X": 0.8045699000358582,
                  "Y": 0.406196653842926
                 },
                 {
                  "X": 0.8045662045478821,
                  "Y": 0.42059287428855896
                 },
                 {
                  "X": 0.7333780527114868,
                  "Y": 0.42055878043174744
                 }
                ]
               },
               "Text": "$550.00"
              }
             ]
            },
            {
             "Type": "LOCALITY_NAME",
             "ValueDetections": [
              {
               "Confidence": 99,
               "Geometry": {
                "BoundingBox": {
                 "Height": 0.00984314363449812,
                 "Left": 0.8638736009597778,
                 "Top": 0.40753552317619324,
                 "Width": 0.05929432436823845
                },
                "Polygon": [
                 {
                  "X": 0.863876461982727,
                  "Y": 0.40753552317619324
                 },
                 {
                  "X": 0.923167884349823,
                  "Y": 0.4075656235218048
                 },
                 {
                  "X": 0.9231646656990051,
                  "Y": 0.41737866401672363
                 },
                 {
                  "X": 0.8638736009597778,
                  "Y": 0.41734984517097473
                 }
                ]
               },
               "Text": "Any Town"
              }
             ]
            },
            {
             "Type": "STATUTORY_EMPLOYEE",
             "ValueDetections": []
            },
            {
             "Type": "RETIREMENT_PLAN",
             "ValueDetections": []
            },
            {
             "Type": "THIRD_PARTY_SICK_PAY",
             "ValueDetections": []
            }
           ],
           "SignatureDetections": []
          }
         }
        ],
        "Page": 6,
        "PageClassification": {
         "PageNumber": [
          {
           "Confidence": 100,
           "Value": "undetected"
          }
         ],
         "PageType": [
          {
           "Confidence": 99.99996185302734,
           "Value": "W_2"
          }
         ]
        }
       },
       {
        "Extractions": [],
        "Page": 7,
        "PageClassification": {
         "PageNumber": [
          {
           "Confidence": 99.9999771118164,
           "Value": "1"
          }
         ],
         "PageType": [
          {
           "Confidence": 99.99408721923828,
           "Value": "UNCLASSIFIED"
          }
         ]
        }
       }
      ],
      "text/plain": [
       "<IPython.core.display.JSON object>"
      ]
     },
     "metadata": {
      "application/json": {
       "expanded": false,
       "root": "root"
      }
     },
     "output_type": "display_data"
    }
   ],
   "source": [
    "display(JSON(results, expanded=False))"
   ]
  },
  {
   "cell_type": "markdown",
   "metadata": {},
   "source": [
    "Let's look at the JSON for the first page in the document."
   ]
  },
  {
   "cell_type": "code",
   "execution_count": 11,
   "metadata": {
    "scrolled": true,
    "tags": []
   },
   "outputs": [
    {
     "data": {
      "application/json": {
       "Extractions": [
        {
         "LendingDocument": {
          "LendingFields": [
           {
            "Type": "PAY_PERIOD_START_DATE",
            "ValueDetections": []
           },
           {
            "Type": "PAY_PERIOD_END_DATE",
            "ValueDetections": [
             {
              "Confidence": 99,
              "Geometry": {
               "BoundingBox": {
                "Height": 0.009813770651817322,
                "Left": 0.7493308186531067,
                "Top": 0.24268266558647156,
                "Width": 0.07342242449522018
               },
               "Polygon": [
                {
                 "X": 0.7493358254432678,
                 "Y": 0.24268266558647156
                },
                {
                 "X": 0.8227532505989075,
                 "Y": 0.24279442429542542
                },
                {
                 "X": 0.8227487802505493,
                 "Y": 0.2524964213371277
                },
                {
                 "X": 0.7493308186531067,
                 "Y": 0.2523847818374634
                }
               ]
              },
              "Text": "7/18/2008"
             }
            ]
           },
           {
            "Type": "PAY_DATE",
            "ValueDetections": [
             {
              "Confidence": 98,
              "Geometry": {
               "BoundingBox": {
                "Height": 0.009240644983947277,
                "Left": 0.7501305341720581,
                "Top": 0.2569517493247986,
                "Width": 0.07180937379598618
               },
               "Polygon": [
                {
                 "X": 0.7501352429389954,
                 "Y": 0.2569517493247986
                },
                {
                 "X": 0.8219399452209473,
                 "Y": 0.2570609152317047
                },
                {
                 "X": 0.8219357132911682,
                 "Y": 0.26619240641593933
                },
                {
                 "X": 0.7501305341720581,
                 "Y": 0.26608335971832275
                }
               ]
              },
              "Text": "7/25/2008"
             }
            ]
           },
           {
            "Type": "BORROWER_NAME",
            "ValueDetections": [
             {
              "Confidence": 99,
              "Geometry": {
               "BoundingBox": {
                "Height": 0.009866639971733093,
                "Left": 0.5790428519248962,
                "Top": 0.31605130434036255,
                "Width": 0.1081274226307869
               },
               "Polygon": [
                {
                 "X": 0.5790491700172424,
                 "Y": 0.31605130434036255
                },
                {
                 "X": 0.6871702671051025,
                 "Y": 0.31621456146240234
                },
                {
                 "X": 0.6871647834777832,
                 "Y": 0.32591792941093445
                },
                {
                 "X": 0.5790428519248962,
                 "Y": 0.325754851102829
                }
               ]
              },
              "Text": "JOHN STILES"
             }
            ]
           },
           {
            "Type": "BORROWER_ADDRESS",
            "ValueDetections": [
             {
              "Confidence": 92,
              "Geometry": {
               "BoundingBox": {
                "Height": 0.025985153391957283,
                "Left": 0.5790253281593323,
                "Top": 0.32689642906188965,
                "Width": 0.1985064595937729
               },
               "Polygon": [
                {
                 "X": 0.5790421366691589,
                 "Y": 0.32689642906188965
                },
                {
                 "X": 0.7775318026542664,
                 "Y": 0.32719582319259644
                },
                {
                 "X": 0.7775191068649292,
                 "Y": 0.3528815805912018
                },
                {
                 "X": 0.5790253281593323,
                 "Y": 0.35258305072784424
                }
               ]
              },
              "Text": "101 MAIN STREET ANYTOWN, USA 12345"
             }
            ]
           },
           {
            "Type": "COMPANY_NAME",
            "ValueDetections": [
             {
              "Confidence": 98,
              "Geometry": {
               "BoundingBox": {
                "Height": 0.010524165816605091,
                "Left": 0.15627160668373108,
                "Top": 0.24292130768299103,
                "Width": 0.16462458670139313
               },
               "Polygon": [
                {
                 "X": 0.15628181397914886,
                 "Y": 0.24292130768299103
                },
                {
                 "X": 0.320896178483963,
                 "Y": 0.24317190051078796
                },
                {
                 "X": 0.32088735699653625,
                 "Y": 0.25344547629356384
                },
                {
                 "X": 0.15627160668373108,
                 "Y": 0.2531951665878296
                }
               ]
              },
              "Text": "ANY COMPANY CORP."
             }
            ]
           },
           {
            "Type": "COMPANY_ADDRESS",
            "ValueDetections": [
             {
              "Confidence": 90,
              "Geometry": {
               "BoundingBox": {
                "Height": 0.02479105442762375,
                "Left": 0.15624211728572845,
                "Top": 0.25833216309547424,
                "Width": 0.16302695870399475
               },
               "Polygon": [
                {
                 "X": 0.1562664955854416,
                 "Y": 0.25833216309547424
                },
                {
                 "X": 0.3192690908908844,
                 "Y": 0.25857987999916077
                },
                {
                 "X": 0.31924790143966675,
                 "Y": 0.2831232249736786
                },
                {
                 "X": 0.15624211728572845,
                 "Y": 0.282876193523407
                }
               ]
              },
              "Text": "475 ANY AVENUE ANYTOWN, USA 10101"
             }
            ]
           },
           {
            "Type": "FEDERAL_FILING_STATUS",
            "ValueDetections": [
             {
              "Confidence": 100,
              "Geometry": {
               "BoundingBox": {
                "Height": 0.008062156848609447,
                "Left": 0.2966133654117584,
                "Top": 0.32076218724250793,
                "Width": 0.0468108132481575
               },
               "Polygon": [
                {
                 "X": 0.2966203987598419,
                 "Y": 0.32076218724250793
                },
                {
                 "X": 0.3434241712093353,
                 "Y": 0.32083284854888916
                },
                {
                 "X": 0.3434174358844757,
                 "Y": 0.32882434129714966
                },
                {
                 "X": 0.2966133654117584,
                 "Y": 0.3287537693977356
                }
               ]
              },
              "Text": "Married"
             }
            ]
           },
           {
            "Type": "STATE_FILING_STATUS",
            "ValueDetections": [
             {
              "Confidence": 50,
              "Geometry": {
               "BoundingBox": {
                "Height": 0.007877764292061329,
                "Left": 0.23195870220661163,
                "Top": 0.35321009159088135,
                "Width": 0.008447963744401932
               },
               "Polygon": [
                {
                 "X": 0.2319660484790802,
                 "Y": 0.35321009159088135
                },
                {
                 "X": 0.24040667712688446,
                 "Y": 0.3532227873802185
                },
                {
                 "X": 0.24039939045906067,
                 "Y": 0.3610878586769104
                },
                {
                 "X": 0.23195870220661163,
                 "Y": 0.36107516288757324
                }
               ]
              },
              "Text": "2"
             }
            ]
           },
           {
            "Type": "CURRENT_GROSS_PAY",
            "ValueDetections": [
             {
              "Confidence": 97,
              "Geometry": {
               "BoundingBox": {
                "Height": 0.009800834581255913,
                "Left": 0.3537830710411072,
                "Top": 0.4687081277370453,
                "Width": 0.06376424431800842
               },
               "Polygon": [
                {
                 "X": 0.35379117727279663,
                 "Y": 0.4687081277370453
                },
                {
                 "X": 0.4175473153591156,
                 "Y": 0.4688027799129486
                },
                {
                 "X": 0.41753971576690674,
                 "Y": 0.47850894927978516
                },
                {
                 "X": 0.3537830710411072,
                 "Y": 0.4784144163131714
                }
               ]
              },
              "Text": "$ 452.43"
             }
            ]
           },
           {
            "Type": "YTD_GROSS_PAY",
            "ValueDetections": [
             {
              "Confidence": 95,
              "Geometry": {
               "BoundingBox": {
                "Height": 0.00980784185230732,
                "Left": 0.46031197905540466,
                "Top": 0.46943721175193787,
                "Width": 0.06860318779945374
               },
               "Polygon": [
                {
                 "X": 0.46031925082206726,
                 "Y": 0.46943721175193787
                },
                {
                 "X": 0.5289151668548584,
                 "Y": 0.4695390462875366
                },
                {
                 "X": 0.5289084315299988,
                 "Y": 0.47924506664276123
                },
                {
                 "X": 0.46031197905540466,
                 "Y": 0.479143351316452
                }
               ]
              },
              "Text": "23,526.80"
             }
            ]
           },
           {
            "Type": "CURRENT_NET_PAY",
            "ValueDetections": [
             {
              "Confidence": 95,
              "Geometry": {
               "BoundingBox": {
                "Height": 0.010368704795837402,
                "Left": 0.35759854316711426,
                "Top": 0.7325505614280701,
                "Width": 0.06054932624101639
               },
               "Polygon": [
                {
                 "X": 0.3576070964336395,
                 "Y": 0.7325505614280701
                },
                {
                 "X": 0.41814789175987244,
                 "Y": 0.7326377630233765
                },
                {
                 "X": 0.41813984513282776,
                 "Y": 0.7429192662239075
                },
                {
                 "X": 0.35759854316711426,
                 "Y": 0.7428321838378906
                }
               ]
              },
              "Text": "$ 291.90"
             }
            ]
           },
           {
            "Type": "YTD_NET_PAY",
            "ValueDetections": []
           },
           {
            "Type": "REGULAR_HOURLY_RATE",
            "ValueDetections": [
             {
              "Confidence": 99,
              "Geometry": {
               "BoundingBox": {
                "Height": 0.008620492182672024,
                "Left": 0.15610429644584656,
                "Top": 0.4130327105522156,
                "Width": 0.037940364331007004
               },
               "Polygon": [
                {
                 "X": 0.15611280500888824,
                 "Y": 0.4130327105522156
                },
                {
                 "X": 0.19404464960098267,
                 "Y": 0.413089394569397
                },
                {
                 "X": 0.19403640925884247,
                 "Y": 0.42165321111679077
                },
                {
                 "X": 0.15610429644584656,
                 "Y": 0.42159661650657654
                }
               ]
              },
              "Text": "10.00"
             }
            ]
           },
           {
            "Type": "HOLIDAY_HOURLY_RATE",
            "ValueDetections": [
             {
              "Confidence": 99,
              "Geometry": {
               "BoundingBox": {
                "Height": 0.00804974976927042,
                "Left": 0.1560770720243454,
                "Top": 0.4410085082054138,
                "Width": 0.037940651178359985
               },
               "Polygon": [
                {
                 "X": 0.15608501434326172,
                 "Y": 0.4410085082054138
                },
                {
                 "X": 0.19401772320270538,
                 "Y": 0.4410649836063385
                },
                {
                 "X": 0.19401001930236816,
                 "Y": 0.44905826449394226
                },
                {
                 "X": 0.1560770720243454,
                 "Y": 0.44900181889533997
                }
               ]
              },
              "Text": "10.00"
             }
            ]
           },
           {
            "Type": "YTD_CHILD_SUPPORT",
            "ValueDetections": []
           },
           {
            "Type": "YTD_GARNISHMENTS",
            "ValueDetections": []
           },
           {
            "Type": "CURRENT_CHILD_SUPPORT",
            "ValueDetections": []
           },
           {
            "Type": "CURRENT_GARNISHMENTS",
            "ValueDetections": []
           },
           {
            "Type": "WARNINGS_MESSAGES_NOTES",
            "ValueDetections": [
             {
              "Confidence": 66,
              "Text": "EFFECTIVE THIS PAY PERIOD YOUR REGULAR HOURLY RATE HAS BEEN CHANGED FROM $8.00 TO $10.00 PER HOUR."
             }
            ]
           },
           {
            "Type": "CURRENT_REGULAR_PAY",
            "ValueDetections": [
             {
              "Confidence": 64,
              "Text": "320"
             }
            ]
           },
           {
            "Type": "YTD_REGULAR_PAY",
            "ValueDetections": [
             {
              "Confidence": 97,
              "Geometry": {
               "BoundingBox": {
                "Height": 0.009805193170905113,
                "Left": 0.4619683027267456,
                "Top": 0.41291871666908264,
                "Width": 0.066986083984375
               },
               "Polygon": [
                {
                 "X": 0.4619755446910858,
                 "Y": 0.41291871666908264
                },
                {
                 "X": 0.5289543867111206,
                 "Y": 0.41301876306533813
                },
                {
                 "X": 0.528947651386261,
                 "Y": 0.4227239191532135
                },
                {
                 "X": 0.4619683027267456,
                 "Y": 0.42262396216392517
                }
               ]
              },
              "Text": "16,640.00"
             }
            ]
           }
          ],
          "SignatureDetections": []
         }
        }
       ],
       "Page": 1,
       "PageClassification": {
        "PageNumber": [
         {
          "Confidence": 100,
          "Value": "undetected"
         }
        ],
        "PageType": [
         {
          "Confidence": 99.99993896484375,
          "Value": "PAYSLIPS"
         }
        ]
       }
      },
      "text/plain": [
       "<IPython.core.display.JSON object>"
      ]
     },
     "metadata": {
      "application/json": {
       "expanded": true,
       "root": "root"
      }
     },
     "output_type": "display_data"
    }
   ],
   "source": [
    "display(JSON(results[0], expanded=True))"
   ]
  },
  {
   "attachments": {
    "analyze-lending-payslip-header.png": {
     "image/png": "[encoded data removed]"
    }
   },
   "cell_type": "markdown",
   "metadata": {},
   "source": [
    "For page 1 of the document, Textract Analyze Lending classified the page as a `PAYSLIP`. On the payslip, it will look for key payslip fields. For Example:\n",
    "- Start Date: `___` (as there is none on this payslip)\n",
    "- End date: 7/18/2008\n",
    "- Pay Date: 7/25/2008\n",
    "- Borrower Name: John Stiles\n",
    "\n",
    "![analyze-lending-payslip-header.png](attachment:analyze-lending-payslip-header.png)\n",
    "\n",
    "\n",
    "\n",
    "Note that the last page is an unsupported document type, a Homeowners Insurance Application Form. In module 2, we will process the fields extracted from each of the documents. "
   ]
  },
  {
   "cell_type": "markdown",
   "metadata": {},
   "source": [
    "Let's next store the JSON output to a file. A file named \"lending-doc-output.json\" will be created locally on this SageMaker Studio instance, in the `aws-ai-intelligent-document-processing directory/industry/mortgage` directory. \n",
    "We will use the same JSON file for our extractions in the next module. "
   ]
  },
  {
   "cell_type": "code",
   "execution_count": 12,
   "metadata": {
    "tags": []
   },
   "outputs": [],
   "source": [
    "json.dump(textract_json, open(\"lending-doc-output.json\", \"w\"))"
   ]
  },
  {
   "cell_type": "markdown",
   "metadata": {},
   "source": [
    "---\n",
    "## Use the Textract Response Library to convert the response to an easier format to work with\n",
    "\n",
    "We are calling the [Textract Response Parser Library](https://pypi.org/project/amazon-textract-response-parser/) and then convert the Textract Analyze Lending JSON response to a flattened array for CSV export.\n",
    "\n",
    "\n",
    "The convert_lending_from_trp2() method returns a list of `[{page_classification}_{page_number_within_document_type}, page_number_in_document, key, key_confidence, value, value_confidence, key-bounding-box.top, key-bounding-box.height, key-bb.width, key-bb.left, value-bounding-box.top, value-bb.height, value-bb.width, value-bb.left]`"
   ]
  },
  {
   "cell_type": "code",
   "execution_count": 13,
   "metadata": {
    "tags": []
   },
   "outputs": [],
   "source": [
    "trp2_doc: tl.TFullLendingDocument = tl.TFullLendingDocumentSchema().load(textract_json)\n",
    "lending_array = convert_lending_from_trp2(trp2_doc)"
   ]
  },
  {
   "cell_type": "markdown",
   "metadata": {},
   "source": [
    "A file named \"lending-doc-output.csv\" will be created locally on this SageMaker Studio instance, `aws-ai-intelligent-document-processing directory/industry/mortgage` directory. \n",
    "Open the file and use the  CSV display to view each element extracted. \n",
    "You can also download the file to view locally on your laptop in your favorite spreadsheet application. "
   ]
  },
  {
   "cell_type": "code",
   "execution_count": 14,
   "metadata": {
    "tags": []
   },
   "outputs": [],
   "source": [
    "import csv\n",
    "  \n",
    "index_fields = ['{page_classification}_{page_number_within_document_type}', 'page_number_in_document', 'key','key_confidence','value','value_confidence','key-bounding-box.top','key-bounding-box.height','key-bb.width','key-bb.left','value-bounding-box.top','value-bb.height','value-bb.width','value-bb.left'] \n",
    "\n",
    "with open('analyze-lending-output.csv', 'w') as f:\n",
    "    csv_writer = csv.writer(f)\n",
    "    csv_writer.writerow(index_fields)\n",
    "    csv_writer.writerows(lending_array)\n"
   ]
  },
  {
   "attachments": {
    "analyze-lending-payslip-csv-sample.png": {
     "image/png": "[encoded data removed]"
    }
   },
   "cell_type": "markdown",
   "metadata": {},
   "source": [
    "Open the CSV file (use the panel on the left, in the `mortgage` directory) and observe the fields extracted, for example:\n",
    "\n",
    "![analyze-lending-payslip-csv-sample.png](attachment:analyze-lending-payslip-csv-sample.png)"
   ]
  }
 ],
 "metadata": {
  "availableInstances": [
   {
    "_defaultOrder": 0,
    "_isFastLaunch": true,
    "category": "General purpose",
    "gpuNum": 0,
    "hideHardwareSpecs": false,
    "memoryGiB": 4,
    "name": "ml.t3.medium",
    "vcpuNum": 2
   },
   {
    "_defaultOrder": 1,
    "_isFastLaunch": false,
    "category": "General purpose",
    "gpuNum": 0,
    "hideHardwareSpecs": false,
    "memoryGiB": 8,
    "name": "ml.t3.large",
    "vcpuNum": 2
   },
   {
    "_defaultOrder": 2,
    "_isFastLaunch": false,
    "category": "General purpose",
    "gpuNum": 0,
    "hideHardwareSpecs": false,
    "memoryGiB": 16,
    "name": "ml.t3.xlarge",
    "vcpuNum": 4
   },
   {
    "_defaultOrder": 3,
    "_isFastLaunch": false,
    "category": "General purpose",
    "gpuNum": 0,
    "hideHardwareSpecs": false,
    "memoryGiB": 32,
    "name": "ml.t3.2xlarge",
    "vcpuNum": 8
   },
   {
    "_defaultOrder": 4,
    "_isFastLaunch": true,
    "category": "General purpose",
    "gpuNum": 0,
    "hideHardwareSpecs": false,
    "memoryGiB": 8,
    "name": "ml.m5.large",
    "vcpuNum": 2
   },
   {
    "_defaultOrder": 5,
    "_isFastLaunch": false,
    "category": "General purpose",
    "gpuNum": 0,
    "hideHardwareSpecs": false,
    "memoryGiB": 16,
    "name": "ml.m5.xlarge",
    "vcpuNum": 4
   },
   {
    "_defaultOrder": 6,
    "_isFastLaunch": false,
    "category": "General purpose",
    "gpuNum": 0,
    "hideHardwareSpecs": false,
    "memoryGiB": 32,
    "name": "ml.m5.2xlarge",
    "vcpuNum": 8
   },
   {
    "_defaultOrder": 7,
    "_isFastLaunch": false,
    "category": "General purpose",
    "gpuNum": 0,
    "hideHardwareSpecs": false,
    "memoryGiB": 64,
    "name": "ml.m5.4xlarge",
    "vcpuNum": 16
   },
   {
    "_defaultOrder": 8,
    "_isFastLaunch": false,
    "category": "General purpose",
    "gpuNum": 0,
    "hideHardwareSpecs": false,
    "memoryGiB": 128,
    "name": "ml.m5.8xlarge",
    "vcpuNum": 32
   },
   {
    "_defaultOrder": 9,
    "_isFastLaunch": false,
    "category": "General purpose",
    "gpuNum": 0,
    "hideHardwareSpecs": false,
    "memoryGiB": 192,
    "name": "ml.m5.12xlarge",
    "vcpuNum": 48
   },
   {
    "_defaultOrder": 10,
    "_isFastLaunch": false,
    "category": "General purpose",
    "gpuNum": 0,
    "hideHardwareSpecs": false,
    "memoryGiB": 256,
    "name": "ml.m5.16xlarge",
    "vcpuNum": 64
   },
   {
    "_defaultOrder": 11,
    "_isFastLaunch": false,
    "category": "General purpose",
    "gpuNum": 0,
    "hideHardwareSpecs": false,
    "memoryGiB": 384,
    "name": "ml.m5.24xlarge",
    "vcpuNum": 96
   },
   {
    "_defaultOrder": 12,
    "_isFastLaunch": false,
    "category": "General purpose",
    "gpuNum": 0,
    "hideHardwareSpecs": false,
    "memoryGiB": 8,
    "name": "ml.m5d.large",
    "vcpuNum": 2
   },
   {
    "_defaultOrder": 13,
    "_isFastLaunch": false,
    "category": "General purpose",
    "gpuNum": 0,
    "hideHardwareSpecs": false,
    "memoryGiB": 16,
    "name": "ml.m5d.xlarge",
    "vcpuNum": 4
   },
   {
    "_defaultOrder": 14,
    "_isFastLaunch": false,
    "category": "General purpose",
    "gpuNum": 0,
    "hideHardwareSpecs": false,
    "memoryGiB": 32,
    "name": "ml.m5d.2xlarge",
    "vcpuNum": 8
   },
   {
    "_defaultOrder": 15,
    "_isFastLaunch": false,
    "category": "General purpose",
    "gpuNum": 0,
    "hideHardwareSpecs": false,
    "memoryGiB": 64,
    "name": "ml.m5d.4xlarge",
    "vcpuNum": 16
   },
   {
    "_defaultOrder": 16,
    "_isFastLaunch": false,
    "category": "General purpose",
    "gpuNum": 0,
    "hideHardwareSpecs": false,
    "memoryGiB": 128,
    "name": "ml.m5d.8xlarge",
    "vcpuNum": 32
   },
   {
    "_defaultOrder": 17,
    "_isFastLaunch": false,
    "category": "General purpose",
    "gpuNum": 0,
    "hideHardwareSpecs": false,
    "memoryGiB": 192,
    "name": "ml.m5d.12xlarge",
    "vcpuNum": 48
   },
   {
    "_defaultOrder": 18,
    "_isFastLaunch": false,
    "category": "General purpose",
    "gpuNum": 0,
    "hideHardwareSpecs": false,
    "memoryGiB": 256,
    "name": "ml.m5d.16xlarge",
    "vcpuNum": 64
   },
   {
    "_defaultOrder": 19,
    "_isFastLaunch": false,
    "category": "General purpose",
    "gpuNum": 0,
    "hideHardwareSpecs": false,
    "memoryGiB": 384,
    "name": "ml.m5d.24xlarge",
    "vcpuNum": 96
   },
   {
    "_defaultOrder": 20,
    "_isFastLaunch": false,
    "category": "General purpose",
    "gpuNum": 0,
    "hideHardwareSpecs": true,
    "memoryGiB": 0,
    "name": "ml.geospatial.interactive",
    "supportedImageNames": [
     "sagemaker-geospatial-v1-0"
    ],
    "vcpuNum": 0
   },
   {
    "_defaultOrder": 21,
    "_isFastLaunch": true,
    "category": "Compute optimized",
    "gpuNum": 0,
    "hideHardwareSpecs": false,
    "memoryGiB": 4,
    "name": "ml.c5.large",
    "vcpuNum": 2
   },
   {
    "_defaultOrder": 22,
    "_isFastLaunch": false,
    "category": "Compute optimized",
    "gpuNum": 0,
    "hideHardwareSpecs": false,
    "memoryGiB": 8,
    "name": "ml.c5.xlarge",
    "vcpuNum": 4
   },
   {
    "_defaultOrder": 23,
    "_isFastLaunch": false,
    "category": "Compute optimized",
    "gpuNum": 0,
    "hideHardwareSpecs": false,
    "memoryGiB": 16,
    "name": "ml.c5.2xlarge",
    "vcpuNum": 8
   },
   {
    "_defaultOrder": 24,
    "_isFastLaunch": false,
    "category": "Compute optimized",
    "gpuNum": 0,
    "hideHardwareSpecs": false,
    "memoryGiB": 32,
    "name": "ml.c5.4xlarge",
    "vcpuNum": 16
   },
   {
    "_defaultOrder": 25,
    "_isFastLaunch": false,
    "category": "Compute optimized",
    "gpuNum": 0,
    "hideHardwareSpecs": false,
    "memoryGiB": 72,
    "name": "ml.c5.9xlarge",
    "vcpuNum": 36
   },
   {
    "_defaultOrder": 26,
    "_isFastLaunch": false,
    "category": "Compute optimized",
    "gpuNum": 0,
    "hideHardwareSpecs": false,
    "memoryGiB": 96,
    "name": "ml.c5.12xlarge",
    "vcpuNum": 48
   },
   {
    "_defaultOrder": 27,
    "_isFastLaunch": false,
    "category": "Compute optimized",
    "gpuNum": 0,
    "hideHardwareSpecs": false,
    "memoryGiB": 144,
    "name": "ml.c5.18xlarge",
    "vcpuNum": 72
   },
   {
    "_defaultOrder": 28,
    "_isFastLaunch": false,
    "category": "Compute optimized",
    "gpuNum": 0,
    "hideHardwareSpecs": false,
    "memoryGiB": 192,
    "name": "ml.c5.24xlarge",
    "vcpuNum": 96
   },
   {
    "_defaultOrder": 29,
    "_isFastLaunch": true,
    "category": "Accelerated computing",
    "gpuNum": 1,
    "hideHardwareSpecs": false,
    "memoryGiB": 16,
    "name": "ml.g4dn.xlarge",
    "vcpuNum": 4
   },
   {
    "_defaultOrder": 30,
    "_isFastLaunch": false,
    "category": "Accelerated computing",
    "gpuNum": 1,
    "hideHardwareSpecs": false,
    "memoryGiB": 32,
    "name": "ml.g4dn.2xlarge",
    "vcpuNum": 8
   },
   {
    "_defaultOrder": 31,
    "_isFastLaunch": false,
    "category": "Accelerated computing",
    "gpuNum": 1,
    "hideHardwareSpecs": false,
    "memoryGiB": 64,
    "name": "ml.g4dn.4xlarge",
    "vcpuNum": 16
   },
   {
    "_defaultOrder": 32,
    "_isFastLaunch": false,
    "category": "Accelerated computing",
    "gpuNum": 1,
    "hideHardwareSpecs": false,
    "memoryGiB": 128,
    "name": "ml.g4dn.8xlarge",
    "vcpuNum": 32
   },
   {
    "_defaultOrder": 33,
    "_isFastLaunch": false,
    "category": "Accelerated computing",
    "gpuNum": 4,
    "hideHardwareSpecs": false,
    "memoryGiB": 192,
    "name": "ml.g4dn.12xlarge",
    "vcpuNum": 48
   },
   {
    "_defaultOrder": 34,
    "_isFastLaunch": false,
    "category": "Accelerated computing",
    "gpuNum": 1,
    "hideHardwareSpecs": false,
    "memoryGiB": 256,
    "name": "ml.g4dn.16xlarge",
    "vcpuNum": 64
   },
   {
    "_defaultOrder": 35,
    "_isFastLaunch": false,
    "category": "Accelerated computing",
    "gpuNum": 1,
    "hideHardwareSpecs": false,
    "memoryGiB": 61,
    "name": "ml.p3.2xlarge",
    "vcpuNum": 8
   },
   {
    "_defaultOrder": 36,
    "_isFastLaunch": false,
    "category": "Accelerated computing",
    "gpuNum": 4,
    "hideHardwareSpecs": false,
    "memoryGiB": 244,
    "name": "ml.p3.8xlarge",
    "vcpuNum": 32
   },
   {
    "_defaultOrder": 37,
    "_isFastLaunch": false,
    "category": "Accelerated computing",
    "gpuNum": 8,
    "hideHardwareSpecs": false,
    "memoryGiB": 488,
    "name": "ml.p3.16xlarge",
    "vcpuNum": 64
   },
   {
    "_defaultOrder": 38,
    "_isFastLaunch": false,
    "category": "Accelerated computing",
    "gpuNum": 8,
    "hideHardwareSpecs": false,
    "memoryGiB": 768,
    "name": "ml.p3dn.24xlarge",
    "vcpuNum": 96
   },
   {
    "_defaultOrder": 39,
    "_isFastLaunch": false,
    "category": "Memory Optimized",
    "gpuNum": 0,
    "hideHardwareSpecs": false,
    "memoryGiB": 16,
    "name": "ml.r5.large",
    "vcpuNum": 2
   },
   {
    "_defaultOrder": 40,
    "_isFastLaunch": false,
    "category": "Memory Optimized",
    "gpuNum": 0,
    "hideHardwareSpecs": false,
    "memoryGiB": 32,
    "name": "ml.r5.xlarge",
    "vcpuNum": 4
   },
   {
    "_defaultOrder": 41,
    "_isFastLaunch": false,
    "category": "Memory Optimized",
    "gpuNum": 0,
    "hideHardwareSpecs": false,
    "memoryGiB": 64,
    "name": "ml.r5.2xlarge",
    "vcpuNum": 8
   },
   {
    "_defaultOrder": 42,
    "_isFastLaunch": false,
    "category": "Memory Optimized",
    "gpuNum": 0,
    "hideHardwareSpecs": false,
    "memoryGiB": 128,
    "name": "ml.r5.4xlarge",
    "vcpuNum": 16
   },
   {
    "_defaultOrder": 43,
    "_isFastLaunch": false,
    "category": "Memory Optimized",
    "gpuNum": 0,
    "hideHardwareSpecs": false,
    "memoryGiB": 256,
    "name": "ml.r5.8xlarge",
    "vcpuNum": 32
   },
   {
    "_defaultOrder": 44,
    "_isFastLaunch": false,
    "category": "Memory Optimized",
    "gpuNum": 0,
    "hideHardwareSpecs": false,
    "memoryGiB": 384,
    "name": "ml.r5.12xlarge",
    "vcpuNum": 48
   },
   {
    "_defaultOrder": 45,
    "_isFastLaunch": false,
    "category": "Memory Optimized",
    "gpuNum": 0,
    "hideHardwareSpecs": false,
    "memoryGiB": 512,
    "name": "ml.r5.16xlarge",
    "vcpuNum": 64
   },
   {
    "_defaultOrder": 46,
    "_isFastLaunch": false,
    "category": "Memory Optimized",
    "gpuNum": 0,
    "hideHardwareSpecs": false,
    "memoryGiB": 768,
    "name": "ml.r5.24xlarge",
    "vcpuNum": 96
   },
   {
    "_defaultOrder": 47,
    "_isFastLaunch": false,
    "category": "Accelerated computing",
    "gpuNum": 1,
    "hideHardwareSpecs": false,
    "memoryGiB": 16,
    "name": "ml.g5.xlarge",
    "vcpuNum": 4
   },
   {
    "_defaultOrder": 48,
    "_isFastLaunch": false,
    "category": "Accelerated computing",
    "gpuNum": 1,
    "hideHardwareSpecs": false,
    "memoryGiB": 32,
    "name": "ml.g5.2xlarge",
    "vcpuNum": 8
   },
   {
    "_defaultOrder": 49,
    "_isFastLaunch": false,
    "category": "Accelerated computing",
    "gpuNum": 1,
    "hideHardwareSpecs": false,
    "memoryGiB": 64,
    "name": "ml.g5.4xlarge",
    "vcpuNum": 16
   },
   {
    "_defaultOrder": 50,
    "_isFastLaunch": false,
    "category": "Accelerated computing",
    "gpuNum": 1,
    "hideHardwareSpecs": false,
    "memoryGiB": 128,
    "name": "ml.g5.8xlarge",
    "vcpuNum": 32
   },
   {
    "_defaultOrder": 51,
    "_isFastLaunch": false,
    "category": "Accelerated computing",
    "gpuNum": 1,
    "hideHardwareSpecs": false,
    "memoryGiB": 256,
    "name": "ml.g5.16xlarge",
    "vcpuNum": 64
   },
   {
    "_defaultOrder": 52,
    "_isFastLaunch": false,
    "category": "Accelerated computing",
    "gpuNum": 4,
    "hideHardwareSpecs": false,
    "memoryGiB": 192,
    "name": "ml.g5.12xlarge",
    "vcpuNum": 48
   },
   {
    "_defaultOrder": 53,
    "_isFastLaunch": false,
    "category": "Accelerated computing",
    "gpuNum": 4,
    "hideHardwareSpecs": false,
    "memoryGiB": 384,
    "name": "ml.g5.24xlarge",
    "vcpuNum": 96
   },
   {
    "_defaultOrder": 54,
    "_isFastLaunch": false,
    "category": "Accelerated computing",
    "gpuNum": 8,
    "hideHardwareSpecs": false,
    "memoryGiB": 768,
    "name": "ml.g5.48xlarge",
    "vcpuNum": 192
   },
   {
    "_defaultOrder": 55,
    "_isFastLaunch": false,
    "category": "Accelerated computing",
    "gpuNum": 8,
    "hideHardwareSpecs": false,
    "memoryGiB": 1152,
    "name": "ml.p4d.24xlarge",
    "vcpuNum": 96
   },
   {
    "_defaultOrder": 56,
    "_isFastLaunch": false,
    "category": "Accelerated computing",
    "gpuNum": 8,
    "hideHardwareSpecs": false,
    "memoryGiB": 1152,
    "name": "ml.p4de.24xlarge",
    "vcpuNum": 96
   },
   {
    "_defaultOrder": 57,
    "_isFastLaunch": false,
    "category": "Accelerated computing",
    "gpuNum": 0,
    "hideHardwareSpecs": false,
    "memoryGiB": 32,
    "name": "ml.trn1.2xlarge",
    "vcpuNum": 8
   },
   {
    "_defaultOrder": 58,
    "_isFastLaunch": false,
    "category": "Accelerated computing",
    "gpuNum": 0,
    "hideHardwareSpecs": false,
    "memoryGiB": 512,
    "name": "ml.trn1.32xlarge",
    "vcpuNum": 128
   },
   {
    "_defaultOrder": 59,
    "_isFastLaunch": false,
    "category": "Accelerated computing",
    "gpuNum": 0,
    "hideHardwareSpecs": false,
    "memoryGiB": 512,
    "name": "ml.trn1n.32xlarge",
    "vcpuNum": 128
   }
  ],
  "instance_type": "ml.t3.medium",
  "kernelspec": {
   "display_name": "Python 3 (Data Science 3.0)",
   "language": "python",
   "name": "python3__SAGEMAKER_INTERNAL__arn:aws:sagemaker:eu-west-2:712779665605:image/sagemaker-data-science-310-v1"
  },
  "language_info": {
   "codemirror_mode": {
    "name": "ipython",
    "version": 3
   },
   "file_extension": ".py",
   "mimetype": "text/x-python",
   "name": "python",
   "nbconvert_exporter": "python",
   "pygments_lexer": "ipython3",
   "version": "3.10.6"
  }
 },
 "nbformat": 4,
 "nbformat_minor": 4
}
